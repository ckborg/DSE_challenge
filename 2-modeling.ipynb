{
 "cells": [
  {
   "cell_type": "markdown",
   "metadata": {},
   "source": [
    "# Modeling:\n",
    "\n",
    "- Load data\n",
    "- Train model\n",
    "- Make predictions\n",
    "- Evaluate"
   ]
  },
  {
   "cell_type": "code",
   "execution_count": 142,
   "metadata": {},
   "outputs": [
    {
     "name": "stdout",
     "output_type": "stream",
     "text": [
      "28292\n"
     ]
    }
   ],
   "source": [
    "import numpy as np\n",
    "import pandas as pd\n",
    "import matplotlib.pyplot as plt\n",
    "plt.rcParams.update({'font.size': 20})\n",
    "plt.rcParams.update({'font.family': 'lusitana'})\n",
    "\n",
    "df = pd.read_csv('data/training_data_exploded_magpie_featurized.csv')\n",
    "print(len(df))"
   ]
  },
  {
   "cell_type": "code",
   "execution_count": 143,
   "metadata": {},
   "outputs": [
    {
     "name": "stdout",
     "output_type": "stream",
     "text": [
      "0.0    20655\n",
      "1.0     7637\n",
      "Name: stabilityVec, dtype: int64\n",
      "stable binaries:  2493\n",
      "unstable binaries:  20655\n",
      "stable monatomic:  5144\n",
      "unstable monatomic:  0\n"
     ]
    }
   ],
   "source": [
    "# lets see what we're working with. \n",
    "# Hypothesis: majority of binaries are unstable. Monoatomics will all be stable. This will create a large class imbalance.\n",
    "\n",
    "def plot_classes(counts):\n",
    "    \n",
    "    fig = plt.figure(figsize=(6,6)) # default is (8,6)\n",
    "    plt.bar([0, 1], [counts[0], counts[1]], color='green', width=0.5)\n",
    "    plt.xticks([0,1])\n",
    "    plt.yticks([0, 10e3, 20e3])\n",
    "    plt.xlabel('0 = unstable, 1 = stable')\n",
    "    plt.ylabel('counts')\n",
    "    plt.show()\n",
    "    fig.savefig('figures/classes.png')\n",
    "    \n",
    "    return\n",
    "\n",
    "counts = df['stabilityVec'].value_counts()\n",
    "stable_binaries = df[(df['stabilityVec'] == 1) & (df['FORMULA'].str.contains('\\.'))]\n",
    "unstable_binaries = df[(df['stabilityVec'] == 0) & (df['FORMULA'].str.contains('\\.'))]\n",
    "stable_monatomic = df[(df['stabilityVec'] == 1) & (~df['FORMULA'].str.contains('\\.'))]\n",
    "unstable_monatomic = df[(df['stabilityVec'] == 0) & (~df['FORMULA'].str.contains('\\.'))]\n",
    "print(counts)\n",
    "print('stable binaries: ', len(stable_binaries))\n",
    "print('unstable binaries: ', len(unstable_binaries))\n",
    "print('stable monatomic: ', len(stable_monatomic))\n",
    "print('unstable monatomic: ', len(unstable_monatomic))\n",
    "\n",
    "#plot_classes(counts)"
   ]
  },
  {
   "cell_type": "code",
   "execution_count": 144,
   "metadata": {},
   "outputs": [
    {
     "name": "stdout",
     "output_type": "stream",
     "text": [
      "There are 120 possible descriptors:\n",
      "\n",
      "['MagpieData minimum Number' 'MagpieData maximum Number'\n",
      " 'MagpieData range Number' 'MagpieData mean Number'\n",
      " 'MagpieData avg_dev Number' 'MagpieData mode Number'\n",
      " 'MagpieData minimum MendeleevNumber' 'MagpieData maximum MendeleevNumber'\n",
      " 'MagpieData range MendeleevNumber' 'MagpieData mean MendeleevNumber'\n",
      " 'MagpieData avg_dev MendeleevNumber' 'MagpieData mode MendeleevNumber'\n",
      " 'MagpieData minimum AtomicWeight' 'MagpieData maximum AtomicWeight'\n",
      " 'MagpieData range AtomicWeight' 'MagpieData mean AtomicWeight'\n",
      " 'MagpieData avg_dev AtomicWeight' 'MagpieData mode AtomicWeight'\n",
      " 'MagpieData minimum Column' 'MagpieData maximum Column'\n",
      " 'MagpieData range Column' 'MagpieData mean Column'\n",
      " 'MagpieData avg_dev Column' 'MagpieData mode Column'\n",
      " 'MagpieData minimum Row' 'MagpieData maximum Row' 'MagpieData range Row'\n",
      " 'MagpieData mean Row' 'MagpieData avg_dev Row' 'MagpieData mode Row'\n",
      " 'MagpieData minimum CovalentRadius' 'MagpieData maximum CovalentRadius'\n",
      " 'MagpieData range CovalentRadius' 'MagpieData mean CovalentRadius'\n",
      " 'MagpieData avg_dev CovalentRadius' 'MagpieData mode CovalentRadius'\n",
      " 'MagpieData minimum NsValence' 'MagpieData maximum NsValence'\n",
      " 'MagpieData range NsValence' 'MagpieData mean NsValence'\n",
      " 'MagpieData avg_dev NsValence' 'MagpieData mode NsValence'\n",
      " 'MagpieData minimum NpValence' 'MagpieData maximum NpValence'\n",
      " 'MagpieData range NpValence' 'MagpieData mean NpValence'\n",
      " 'MagpieData avg_dev NpValence' 'MagpieData mode NpValence'\n",
      " 'MagpieData minimum NdValence' 'MagpieData maximum NdValence'\n",
      " 'MagpieData range NdValence' 'MagpieData mean NdValence'\n",
      " 'MagpieData avg_dev NdValence' 'MagpieData mode NdValence'\n",
      " 'MagpieData minimum NfValence' 'MagpieData maximum NfValence'\n",
      " 'MagpieData range NfValence' 'MagpieData mean NfValence'\n",
      " 'MagpieData avg_dev NfValence' 'MagpieData mode NfValence'\n",
      " 'MagpieData minimum NValence' 'MagpieData maximum NValence'\n",
      " 'MagpieData range NValence' 'MagpieData mean NValence'\n",
      " 'MagpieData avg_dev NValence' 'MagpieData mode NValence'\n",
      " 'MagpieData minimum NsUnfilled' 'MagpieData maximum NsUnfilled'\n",
      " 'MagpieData range NsUnfilled' 'MagpieData mean NsUnfilled'\n",
      " 'MagpieData avg_dev NsUnfilled' 'MagpieData mode NsUnfilled'\n",
      " 'MagpieData minimum NpUnfilled' 'MagpieData maximum NpUnfilled'\n",
      " 'MagpieData range NpUnfilled' 'MagpieData mean NpUnfilled'\n",
      " 'MagpieData avg_dev NpUnfilled' 'MagpieData mode NpUnfilled'\n",
      " 'MagpieData minimum NdUnfilled' 'MagpieData maximum NdUnfilled'\n",
      " 'MagpieData range NdUnfilled' 'MagpieData mean NdUnfilled'\n",
      " 'MagpieData avg_dev NdUnfilled' 'MagpieData mode NdUnfilled'\n",
      " 'MagpieData minimum NfUnfilled' 'MagpieData maximum NfUnfilled'\n",
      " 'MagpieData range NfUnfilled' 'MagpieData mean NfUnfilled'\n",
      " 'MagpieData avg_dev NfUnfilled' 'MagpieData mode NfUnfilled'\n",
      " 'MagpieData minimum NUnfilled' 'MagpieData maximum NUnfilled'\n",
      " 'MagpieData range NUnfilled' 'MagpieData mean NUnfilled'\n",
      " 'MagpieData avg_dev NUnfilled' 'MagpieData mode NUnfilled'\n",
      " 'MagpieData minimum GSvolume_pa' 'MagpieData maximum GSvolume_pa'\n",
      " 'MagpieData range GSvolume_pa' 'MagpieData mean GSvolume_pa'\n",
      " 'MagpieData avg_dev GSvolume_pa' 'MagpieData mode GSvolume_pa'\n",
      " 'MagpieData minimum GSbandgap' 'MagpieData maximum GSbandgap'\n",
      " 'MagpieData range GSbandgap' 'MagpieData mean GSbandgap'\n",
      " 'MagpieData avg_dev GSbandgap' 'MagpieData mode GSbandgap'\n",
      " 'MagpieData minimum GSmagmom' 'MagpieData maximum GSmagmom'\n",
      " 'MagpieData range GSmagmom' 'MagpieData mean GSmagmom'\n",
      " 'MagpieData avg_dev GSmagmom' 'MagpieData mode GSmagmom'\n",
      " 'MagpieData minimum SpaceGroupNumber'\n",
      " 'MagpieData maximum SpaceGroupNumber' 'MagpieData range SpaceGroupNumber'\n",
      " 'MagpieData mean SpaceGroupNumber' 'MagpieData avg_dev SpaceGroupNumber'\n",
      " 'MagpieData mode SpaceGroupNumber']\n"
     ]
    }
   ],
   "source": [
    "# define inputs and outputs: y = label(s), X=features\n",
    "y = df['stabilityVec'].values\n",
    "\n",
    "excluded = ['Unnamed: 0', 'FORMULA', 'composition', 'stabilityVec']\n",
    "X = df.drop(excluded, axis=1)\n",
    "\n",
    "print(\"There are {} possible descriptors:\\n\\n{}\".format(X.shape[1], X.columns.values))"
   ]
  },
  {
   "cell_type": "code",
   "execution_count": 145,
   "metadata": {},
   "outputs": [
    {
     "data": {
      "text/plain": [
       "RandomForestClassifier(bootstrap=True, class_weight=None, criterion='gini',\n",
       "            max_depth=None, max_features='auto', max_leaf_nodes=None,\n",
       "            min_impurity_decrease=0.0, min_impurity_split=None,\n",
       "            min_samples_leaf=1, min_samples_split=2,\n",
       "            min_weight_fraction_leaf=0.0, n_estimators=20, n_jobs=None,\n",
       "            oob_score=False, random_state=1, verbose=0, warm_start=False)"
      ]
     },
     "execution_count": 145,
     "metadata": {},
     "output_type": "execute_result"
    }
   ],
   "source": [
    "# import rf and associated analysis methods\n",
    "from sklearn.ensemble import RandomForestClassifier\n",
    "from sklearn.metrics import mean_squared_error, classification_report, confusion_matrix, roc_auc_score, roc_curve\n",
    "from sklearn.model_selection import train_test_split, cross_val_score, KFold\n",
    "\n",
    "# since our test_data.csv is unlabeled, test-train split will allow for model eval.\n",
    "X_train, X_test, y_train, y_test = train_test_split(X, y, test_size=0.33, random_state=1)\n",
    "\n",
    "# initialize rf\n",
    "rf = RandomForestClassifier(n_estimators=20, random_state=1)\n",
    "\n",
    "# fit to data\n",
    "rf.fit(X_train, y_train)"
   ]
  },
  {
   "cell_type": "code",
   "execution_count": 146,
   "metadata": {},
   "outputs": [],
   "source": [
    "# make predictions\n",
    "rf_predict = rf.predict(X_test)"
   ]
  },
  {
   "cell_type": "code",
   "execution_count": 158,
   "metadata": {},
   "outputs": [
    {
     "name": "stdout",
     "output_type": "stream",
     "text": [
      "True positives:  1921\n",
      "False positives:  141\n",
      "True negatives:  6697\n",
      "False negatives:  578\n",
      "0.842\n",
      "0.923\n"
     ]
    }
   ],
   "source": [
    "# analyze predictions\n",
    "from sklearn.metrics import f1_score\n",
    "conf = confusion_matrix(y_test, rf_predict)\n",
    "tn, fp, fn, tp = conf.ravel()\n",
    "print('True positives: ', tp)\n",
    "print('False positives: ', fp)\n",
    "print('True negatives: ', tn)\n",
    "print('False negatives: ', fn)\n",
    "accuracy = (tp+tn)/(tp+tn+fn+fp)\n",
    "f1_score = f1_score(y_test, rf_predict)\n",
    "print(round(f1_score, 3))\n",
    "print(round(accuracy, 3))"
   ]
  },
  {
   "cell_type": "code",
   "execution_count": 148,
   "metadata": {},
   "outputs": [
    {
     "name": "stdout",
     "output_type": "stream",
     "text": [
      "AUC: 0.962\n"
     ]
    },
    {
     "data": {
      "image/png": "[encoded data removed]",
      "text/plain": [
       "<Figure size 432x288 with 1 Axes>"
      ]
     },
     "metadata": {},
     "output_type": "display_data"
    }
   ],
   "source": [
    "# Generate an ROC curve\n",
    "\n",
    "probs = rf.predict_proba(X_test)\n",
    "probs = probs[:, 1]\n",
    "auc = roc_auc_score(y_test, probs)\n",
    "print('AUC: %.3f' % auc)\n",
    "fpr, tpr, thresholds = roc_curve(y_test, probs)\n",
    "\n",
    "def plot_roc_curve(fpr, tpr):\n",
    "    plt.plot(fpr, tpr, color='orange', label='ROC')\n",
    "    plt.plot([0, 1], [0, 1], color='darkblue', linestyle='--')\n",
    "    plt.xlabel('False Positive Rate')\n",
    "    plt.ylabel('True Positive Rate')\n",
    "    plt.title('ROC curve - Random Forest Classifier')\n",
    "    plt.legend()\n",
    "    plt.gca().set_aspect('equal', adjustable='box')\n",
    "    plt.savefig('figures/rf_roc_curve.png')\n",
    "    plt.show()\n",
    "\n",
    "plot_roc_curve(fpr, tpr)"
   ]
  },
  {
   "cell_type": "code",
   "execution_count": 150,
   "metadata": {},
   "outputs": [
    {
     "data": {
      "image/png": "[encoded data removed]",
      "text/plain": [
       "<Figure size 432x288 with 1 Axes>"
      ]
     },
     "metadata": {},
     "output_type": "display_data"
    },
    {
     "name": "stdout",
     "output_type": "stream",
     "text": [
      "0.7780473531764666\n"
     ]
    }
   ],
   "source": [
    "from inspect import signature\n",
    "from sklearn.metrics import precision_recall_curve, average_precision_score\n",
    "\n",
    "def plot_pr_curve(recall, precision):\n",
    "    step_kwargs = ({'step': 'post'} if 'step' in signature(plt.fill_between).parameters else {})\n",
    "    plt.step(recall, precision, color='b', alpha=0.2, where='post')\n",
    "    plt.fill_between(recall, precision, alpha=0.2, color='b', **step_kwargs)\n",
    "    plt.xlabel('Recall')\n",
    "    plt.ylabel('Precision')\n",
    "    plt.ylim([0.0, 1.05])\n",
    "    plt.xlim([0.0, 1.0])\n",
    "    plt.title('PR curve - Random forest classifier')\n",
    "    plt.gca().set_aspect('equal', adjustable='box')\n",
    "    plt.savefig('figures/rf_pr_curve.png')\n",
    "    plt.show()\n",
    "    return\n",
    "\n",
    "precision, recall, _ = precision_recall_curve(y_test, rf_predict)\n",
    "average_precision = average_precision_score(y_test, rf_predict)\n",
    "plot_pr_curve(recall, precision)\n",
    "print(average_precision)"
   ]
  },
  {
   "cell_type": "code",
   "execution_count": 154,
   "metadata": {},
   "outputs": [
    {
     "name": "stdout",
     "output_type": "stream",
     "text": [
      "0.9632988014853429\n"
     ]
    }
   ],
   "source": [
    "# Assess model quality using CV. 3-fold nad 10-fold don't change the avg cv score much\n",
    "crossvalidation = KFold(n_splits=3, shuffle=False, random_state=1)\n",
    "rf_cv_score = cross_val_score(rf, X, y, cv=crossvalidation, scoring='roc_auc')\n",
    "class_report = classification_report(y_test, rf_predict)\n",
    "cv_scores = rf_cv_score\n",
    "avg_auroc = rf_cv_score.mean()\n",
    "print(avg_auroc)"
   ]
  },
  {
   "cell_type": "code",
   "execution_count": 155,
   "metadata": {},
   "outputs": [
    {
     "name": "stdout",
     "output_type": "stream",
     "text": [
      "                                    importance\n",
      "MagpieData range MendeleevNumber      0.071601\n",
      "MagpieData avg_dev AtomicWeight       0.068320\n",
      "MagpieData range GSvolume_pa          0.068017\n",
      "MagpieData avg_dev MendeleevNumber    0.068004\n",
      "MagpieData avg_dev GSvolume_pa        0.057959\n",
      "...                                        ...\n",
      "MagpieData maximum NsValence          0.000092\n",
      "MagpieData minimum NpValence          0.000083\n",
      "MagpieData minimum GSbandgap          0.000081\n",
      "MagpieData minimum NsUnfilled         0.000030\n",
      "MagpieData minimum NfUnfilled         0.000000\n",
      "\n",
      "[120 rows x 1 columns]\n"
     ]
    }
   ],
   "source": [
    "# investigate important features\n",
    "feature_importances = pd.DataFrame(rf.feature_importances_, index = X_train.columns, columns=['importance']).sort_values('importance', ascending=False)\n",
    "print(feature_importances)"
   ]
  }
 ],
 "metadata": {
  "kernelspec": {
   "display_name": "Python 3",
   "language": "python",
   "name": "python3"
  },
  "language_info": {
   "codemirror_mode": {
    "name": "ipython",
    "version": 3
   },
   "file_extension": ".py",
   "mimetype": "text/x-python",
   "name": "python",
   "nbconvert_exporter": "python",
   "pygments_lexer": "ipython3",
   "version": "3.6.4"
  }
 },
 "nbformat": 4,
 "nbformat_minor": 2
}
