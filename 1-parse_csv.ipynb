{
 "cells": [
  {
   "cell_type": "markdown",
   "metadata": {},
   "source": [
    "# 1 - Parse CSV / work up training data\n",
    "\n",
    "GOAL: Convert training data to a format that is amenable to a machine learning model. This will also work on test_data.csv.\n",
    "1. Load CSV in Pandas\n",
    "2. Stabilityvec is interpreted as a string, let's convert it to a list and breakout/explode the dataframe so each row now represents a unique compound and it's stability.\n",
    "3. After the breakout, the ordering implicitly defines composition (row 1 = 100% A 0% B , row 5 = 50% A 50% B), let's explicitly define this with a FORMULA column.\n",
    "4. The feature columns given are not weighted, it may be quicker to use our FORMULA column to generate weighted features in magpie.\n",
    "\n",
    "output files:\n",
    "1. \"XXXX_exploded.csv\" = breakout on stabiltyVec\n",
    "2. \"XXXX_exploded_no_features.csv\" = removed non-weighted features\n",
    "3. \"XXXX_exploded_magpie_featurized.csv\" = added magpie features\n",
    "4. \"XXXX_exploded_magpie_featurized_predictions.csv\" = added predictions column (rf = random forest, logreg = logistic regression)\n",
    "5. \"test_data_with_predictions.csv\" = re-formatted initial test_data.csv with StabilityVec"
   ]
  },
  {
   "cell_type": "code",
   "execution_count": 1,
   "metadata": {},
   "outputs": [],
   "source": [
    "# import relevant packages\n",
    "import pandas as pd\n",
    "import numpy as np\n",
    "from ast import literal_eval\n",
    "from pymatgen import Composition\n",
    "\n",
    "# this placeholder vector is added to the test data so tha df.explode() generates the correct number of rows.\n",
    "def return_placeholder_vec(row):\n",
    "    val = ['0','0','0','0','0','0','0','0','0','0','0']\n",
    "    return val"
   ]
  },
  {
   "cell_type": "code",
   "execution_count": 2,
   "metadata": {},
   "outputs": [
    {
     "name": "stdout",
     "output_type": "stream",
     "text": [
      "original:  2572\n",
      "exploded:  28292\n"
     ]
    }
   ],
   "source": [
    "# 1. Load CSV in Pandas, toggle training or test data\n",
    "\n",
    "input_file_path = 'data/training_data.csv'\n",
    "# input_file_path = 'data/test_data.csv'\n",
    "\n",
    "\n",
    "df = pd.read_csv(input_file_path)\n",
    "print(\"original: \", len(df))\n",
    "\n",
    "if 'test' in input_file_path:\n",
    "    df['sv_placeholder'] = df.apply(return_placeholder_vec, axis=1)\n",
    "    df = df.explode('sv_placeholder')\n",
    "\n",
    "else:\n",
    "    df['stabilityVec'] = df['stabilityVec'].apply(lambda x: literal_eval(x))\n",
    "    df = df.explode('stabilityVec')\n",
    "\n",
    "# convert stability vector to list, explode on list\n",
    "print(\"exploded: \", len(df))"
   ]
  },
  {
   "cell_type": "code",
   "execution_count": 3,
   "metadata": {},
   "outputs": [],
   "source": [
    "# calculate weights column for A and B, useful for calc a composition column\n",
    "weights = []\n",
    "num_rows = int(len(df)/11)\n",
    "for i in range(num_rows):\n",
    "    for i in np.linspace(0,1,11):\n",
    "        weights.append(round(i,1))\n",
    "\n",
    "df['weight_element_A'] = weights[::-1]\n",
    "df['weight_element_B'] = weights"
   ]
  },
  {
   "cell_type": "code",
   "execution_count": 4,
   "metadata": {},
   "outputs": [
    {
     "name": "stderr",
     "output_type": "stream",
     "text": [
      "/Users/cborg/miniconda3/lib/python3.6/site-packages/pymatgen/core/periodic_table.py:427: UserWarning: No electronegativity for Ne. Setting to NaN. This has no physical meaning, and is mainly done to avoid errors caused by the code expecting a float.\n",
      "  % self.symbol)\n",
      "/Users/cborg/miniconda3/lib/python3.6/site-packages/pymatgen/core/periodic_table.py:427: UserWarning: No electronegativity for Ar. Setting to NaN. This has no physical meaning, and is mainly done to avoid errors caused by the code expecting a float.\n",
      "  % self.symbol)\n",
      "/Users/cborg/miniconda3/lib/python3.6/site-packages/pymatgen/core/periodic_table.py:427: UserWarning: No electronegativity for He. Setting to NaN. This has no physical meaning, and is mainly done to avoid errors caused by the code expecting a float.\n",
      "  % self.symbol)\n"
     ]
    }
   ],
   "source": [
    "# add comp column (useful for magpie featurization)\n",
    "def calc_formula(row):\n",
    "    comp = Composition(row['formulaA']+str(row['weight_element_A'])+row['formulaB']+str(row['weight_element_B']))\n",
    "    return comp.formula\n",
    "\n",
    "df['FORMULA'] = df.apply(calc_formula, axis=1)"
   ]
  },
  {
   "cell_type": "code",
   "execution_count": 5,
   "metadata": {},
   "outputs": [],
   "source": [
    "outfile_path = input_file_path.replace('.csv', '_exploded.csv')\n",
    "df.to_csv(outfile_path)"
   ]
  },
  {
   "cell_type": "code",
   "execution_count": 6,
   "metadata": {},
   "outputs": [],
   "source": [
    "# Since features for A and B are not weighted by composition, it may be easier to use features generated in magpie\n",
    "# Let's filter on composition and generate new (properly weighted) features in magpie\n",
    "df = df.filter(['FORMULA', 'stabilityVec'], axis=1)\n",
    "# df = df.drop_duplicates(subset='FORMULA')\n",
    "outfile_path = input_file_path.replace('.csv', '_exploded_no_features.csv')\n",
    "df.to_csv(outfile_path)"
   ]
  },
  {
   "cell_type": "code",
   "execution_count": 7,
   "metadata": {},
   "outputs": [
    {
     "data": {
      "application/vnd.jupyter.widget-view+json": {
       "model_id": "5c06b168efdd46cdb09b6f8f0ee7a719",
       "version_major": 2,
       "version_minor": 0
      },
      "text/html": [
       "<p>Failed to display Jupyter Widget of type <code>HBox</code>.</p>\n",
       "<p>\n",
       "  If you're reading this message in the Jupyter Notebook or JupyterLab Notebook, it may mean\n",
       "  that the widgets JavaScript is still loading. If this message persists, it\n",
       "  likely means that the widgets JavaScript library is either not installed or\n",
       "  not enabled. See the <a href=\"https://ipywidgets.readthedocs.io/en/stable/user_install.html\">Jupyter\n",
       "  Widgets Documentation</a> for setup instructions.\n",
       "</p>\n",
       "<p>\n",
       "  If you're reading this message in another frontend (for example, a static\n",
       "  rendering on GitHub or <a href=\"https://nbviewer.jupyter.org/\">NBViewer</a>),\n",
       "  it may mean that your frontend doesn't currently support widgets.\n",
       "</p>\n"
      ],
      "text/plain": [
       "HBox(children=(IntProgress(value=0, description='StrToComposition', max=28292), HTML(value='')))"
      ]
     },
     "metadata": {},
     "output_type": "display_data"
    },
    {
     "name": "stdout",
     "output_type": "stream",
     "text": [
      "\n"
     ]
    },
    {
     "data": {
      "application/vnd.jupyter.widget-view+json": {
       "model_id": "968e336c58d946999c56b21e4d3fa8cf",
       "version_major": 2,
       "version_minor": 0
      },
      "text/html": [
       "<p>Failed to display Jupyter Widget of type <code>HBox</code>.</p>\n",
       "<p>\n",
       "  If you're reading this message in the Jupyter Notebook or JupyterLab Notebook, it may mean\n",
       "  that the widgets JavaScript is still loading. If this message persists, it\n",
       "  likely means that the widgets JavaScript library is either not installed or\n",
       "  not enabled. See the <a href=\"https://ipywidgets.readthedocs.io/en/stable/user_install.html\">Jupyter\n",
       "  Widgets Documentation</a> for setup instructions.\n",
       "</p>\n",
       "<p>\n",
       "  If you're reading this message in another frontend (for example, a static\n",
       "  rendering on GitHub or <a href=\"https://nbviewer.jupyter.org/\">NBViewer</a>),\n",
       "  it may mean that your frontend doesn't currently support widgets.\n",
       "</p>\n"
      ],
      "text/plain": [
       "HBox(children=(IntProgress(value=0, description='ElementProperty', max=28292), HTML(value='')))"
      ]
     },
     "metadata": {},
     "output_type": "display_data"
    },
    {
     "name": "stdout",
     "output_type": "stream",
     "text": [
      "\n"
     ]
    }
   ],
   "source": [
    "# calc comp-weighters features with matminer\n",
    "# for info on featurzation see: https://github.com/hackingmaterials/matminer_examples/blob/master/matminer_examples/machine_learning-nb/bulk_modulus.ipynb)\n",
    "from matminer.featurizers.conversions import StrToComposition\n",
    "from matminer.featurizers.composition import ElementProperty\n",
    "df = StrToComposition().featurize_dataframe(df, \"FORMULA\")\n",
    "ep_feat = ElementProperty.from_preset(preset_name=\"magpie\")\n",
    "df = ep_feat.featurize_dataframe(df, col_id=\"composition\")             # input the \"composition\" column to the featurizer"
   ]
  },
  {
   "cell_type": "code",
   "execution_count": 8,
   "metadata": {},
   "outputs": [
    {
     "name": "stdout",
     "output_type": "stream",
     "text": [
      "1843\n"
     ]
    }
   ],
   "source": [
    "# check for rows that didn't completely featurize\n",
    "# rows with noble gases do not have electroneg, either drops rows or features, let's drop elecneg features.\n",
    "nan_rows = df[df.isnull().any(1)]\n",
    "print(len(nan_rows))\n",
    "nan_rows.to_csv('nan_rows.csv')\n",
    "df = df.dropna(axis=1)"
   ]
  },
  {
   "cell_type": "code",
   "execution_count": 9,
   "metadata": {},
   "outputs": [],
   "source": [
    "outfile_path = input_file_path.replace('.csv', '_exploded_magpie_featurized.csv')\n",
    "df.to_csv(outfile_path)"
   ]
  },
  {
   "cell_type": "code",
   "execution_count": null,
   "metadata": {},
   "outputs": [],
   "source": []
  }
 ],
 "metadata": {
  "kernelspec": {
   "display_name": "Python 3",
   "language": "python",
   "name": "python3"
  },
  "language_info": {
   "codemirror_mode": {
    "name": "ipython",
    "version": 3
   },
   "file_extension": ".py",
   "mimetype": "text/x-python",
   "name": "python",
   "nbconvert_exporter": "python",
   "pygments_lexer": "ipython3",
   "version": "3.6.4"
  }
 },
 "nbformat": 4,
 "nbformat_minor": 2
}
