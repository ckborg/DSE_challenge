{
 "cells": [
  {
   "cell_type": "code",
   "execution_count": 27,
   "metadata": {},
   "outputs": [],
   "source": [
    "# import relevant packages\n",
    "import pandas as pd\n",
    "import numpy as np\n",
    "from ast import literal_eval\n",
    "from pymatgen import Composition"
   ]
  },
  {
   "cell_type": "code",
   "execution_count": 28,
   "metadata": {},
   "outputs": [],
   "source": [
    "input_file_path = 'data/test_data_exploded_magpie_featurized_predictions.csv'\n",
    "df = pd.read_csv(input_file_path)"
   ]
  },
  {
   "cell_type": "code",
   "execution_count": 29,
   "metadata": {},
   "outputs": [],
   "source": [
    "df = df.filter(['FORMULA', 'predicted_stabilityVec'], axis=1)\n",
    "\n",
    "count = 0\n",
    "concat_pred = []\n",
    "concat_formulas = []\n",
    "pred_array = []\n",
    "form_array = []\n",
    "for index, row in df.iterrows():\n",
    "    pred_array.append(row['predicted_stabilityVec'])\n",
    "    form_array.append(row['FORMULA'])\n",
    "    count += 1\n",
    "    if count == 11:\n",
    "        count = 0\n",
    "        concat_pred.append(pred_array)\n",
    "        concat_formulas.append(form_array)\n",
    "        pred_array = []\n",
    "        form_array = []\n",
    "\n",
    "    "
   ]
  },
  {
   "cell_type": "code",
   "execution_count": 42,
   "metadata": {},
   "outputs": [
    {
     "name": "stdout",
     "output_type": "stream",
     "text": [
      "[1.0, 0.0, 1.0, 1.0, 0.0, 0.0, 0.0, 0.0, 0.0, 0.0, 1.0]\n",
      "['Ac1', 'Ac0.9 Se0.1', 'Ac0.8 Se0.2', 'Ac0.7 Se0.3', 'Ac0.6 Se0.4', 'Ac0.5 Se0.5', 'Ac0.4 Se0.6', 'Ac0.3 Se0.7', 'Ac0.2 Se0.8', 'Ac0.1 Se0.9', 'Se1']\n"
     ]
    }
   ],
   "source": [
    "print(concat_pred[7])\n",
    "print(concat_formulas[7])"
   ]
  },
  {
   "cell_type": "code",
   "execution_count": 31,
   "metadata": {},
   "outputs": [
    {
     "name": "stdout",
     "output_type": "stream",
     "text": [
      "749\n"
     ]
    }
   ],
   "source": [
    "print(len(concat_formulas))"
   ]
  },
  {
   "cell_type": "code",
   "execution_count": 35,
   "metadata": {},
   "outputs": [
    {
     "name": "stdout",
     "output_type": "stream",
     "text": [
      "749\n"
     ]
    }
   ],
   "source": [
    "df_original = pd.read_csv('data/test_data.csv')\n",
    "print(len(df_original))"
   ]
  },
  {
   "cell_type": "code",
   "execution_count": 36,
   "metadata": {},
   "outputs": [],
   "source": [
    "df_original['predicted_stabilityVec'] = concat_pred"
   ]
  },
  {
   "cell_type": "code",
   "execution_count": 38,
   "metadata": {},
   "outputs": [
    {
     "name": "stdout",
     "output_type": "stream",
     "text": [
      "  formulaA formulaB  formulaA_elements_AtomicVolume  \\\n",
      "0       Ac       Be                       37.433086   \n",
      "1       Ac       Cd                       37.433086   \n",
      "2       Ac       Cs                       37.433086   \n",
      "3       Ac       Ho                       37.433086   \n",
      "4       Ac        K                       37.433086   \n",
      "\n",
      "   formulaB_elements_AtomicVolume  formulaA_elements_AtomicWeight  \\\n",
      "0                        8.098176                           227.0   \n",
      "1                       21.580025                           227.0   \n",
      "2                      117.456016                           227.0   \n",
      "3                       31.140380                           227.0   \n",
      "4                       75.847865                           227.0   \n",
      "\n",
      "   formulaB_elements_AtomicWeight  formulaA_elements_BoilingT  \\\n",
      "0                        9.012182                      3473.0   \n",
      "1                      112.411000                      3473.0   \n",
      "2                      132.905452                      3473.0   \n",
      "3                      164.930320                      3473.0   \n",
      "4                       39.098300                      3473.0   \n",
      "\n",
      "   formulaB_elements_BoilingT  formulaA_elements_BulkModulus  \\\n",
      "0                      2743.0                            0.0   \n",
      "1                      1040.0                            0.0   \n",
      "2                       944.0                            0.0   \n",
      "3                      2973.0                            0.0   \n",
      "4                      1032.0                            0.0   \n",
      "\n",
      "   formulaB_elements_BulkModulus  ...  formulaB_elements_Row  \\\n",
      "0                          130.0  ...                      2   \n",
      "1                           42.0  ...                      5   \n",
      "2                            1.6  ...                      6   \n",
      "3                           40.0  ...                      6   \n",
      "4                            3.1  ...                      4   \n",
      "\n",
      "   formulaA_elements_ShearModulus  formulaB_elements_ShearModulus  \\\n",
      "0                             0.0                           132.0   \n",
      "1                             0.0                            19.0   \n",
      "2                             0.0                             0.0   \n",
      "3                             0.0                            26.0   \n",
      "4                             0.0                             1.3   \n",
      "\n",
      "   formulaA_elements_SpaceGroupNumber  formulaB_elements_SpaceGroupNumber  \\\n",
      "0                                 225                                 194   \n",
      "1                                 225                                 194   \n",
      "2                                 225                                 229   \n",
      "3                                 225                                 194   \n",
      "4                                 225                                 229   \n",
      "\n",
      "   avg_coordination_A  avg_coordination_B  avg_nearest_neighbor_distance_A  \\\n",
      "0                12.0                12.0                          3.99462   \n",
      "1                12.0                 6.0                          3.99462   \n",
      "2                12.0                 8.0                          3.99462   \n",
      "3                12.0                12.0                          3.99462   \n",
      "4                12.0                 8.0                          3.99462   \n",
      "\n",
      "   avg_nearest_neighbor_distance_B  \\\n",
      "0                          2.20087   \n",
      "1                          3.00785   \n",
      "2                          5.32395   \n",
      "3                          3.48112   \n",
      "4                          4.57083   \n",
      "\n",
      "                              predicted_stabilityVec  \n",
      "0  [1.0, 0.0, 0.0, 0.0, 0.0, 0.0, 0.0, 0.0, 0.0, ...  \n",
      "1  [1.0, 0.0, 0.0, 0.0, 0.0, 0.0, 0.0, 0.0, 0.0, ...  \n",
      "2  [1.0, 0.0, 0.0, 0.0, 0.0, 0.0, 0.0, 0.0, 0.0, ...  \n",
      "3  [1.0, 0.0, 0.0, 0.0, 0.0, 0.0, 0.0, 0.0, 0.0, ...  \n",
      "4  [1.0, 0.0, 0.0, 0.0, 0.0, 0.0, 0.0, 0.0, 0.0, ...  \n",
      "\n",
      "[5 rows x 99 columns]\n"
     ]
    }
   ],
   "source": [
    "print(df_original.head())\n",
    "df_original.to_csv('data/test_data_with_predictions.csv')"
   ]
  },
  {
   "cell_type": "code",
   "execution_count": null,
   "metadata": {},
   "outputs": [],
   "source": []
  }
 ],
 "metadata": {
  "kernelspec": {
   "display_name": "Python 3",
   "language": "python",
   "name": "python3"
  },
  "language_info": {
   "codemirror_mode": {
    "name": "ipython",
    "version": 3
   },
   "file_extension": ".py",
   "mimetype": "text/x-python",
   "name": "python",
   "nbconvert_exporter": "python",
   "pygments_lexer": "ipython3",
   "version": "3.6.4"
  }
 },
 "nbformat": 4,
 "nbformat_minor": 2
}
