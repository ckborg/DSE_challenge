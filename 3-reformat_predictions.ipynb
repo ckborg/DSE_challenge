{
 "cells": [
  {
   "cell_type": "markdown",
   "metadata": {},
   "source": [
    "# 3 - Reformat predictions to original stabilityVec format.\n",
    "1. Load csv with predictions\n",
    "2. Concatenate predication to original stabilityVec array format.\n",
    "3. Save as column in test_data.csv"
   ]
  },
  {
   "cell_type": "code",
   "execution_count": 1,
   "metadata": {},
   "outputs": [],
   "source": [
    "# import relevant packages\n",
    "import pandas as pd"
   ]
  },
  {
   "cell_type": "code",
   "execution_count": 2,
   "metadata": {},
   "outputs": [],
   "source": [
    "input_file_path = 'data/test_data_exploded_magpie_featurized_predictions_rf.csv'\n",
    "df = pd.read_csv(input_file_path)"
   ]
  },
  {
   "cell_type": "code",
   "execution_count": 3,
   "metadata": {},
   "outputs": [],
   "source": [
    "df = df.filter(['FORMULA', 'predicted_stabilityVec'], axis=1)\n",
    "\n",
    "count = 0\n",
    "concat_pred = []\n",
    "concat_formulas = []\n",
    "pred_array = []\n",
    "form_array = []\n",
    "for index, row in df.iterrows():\n",
    "    pred_array.append(row['predicted_stabilityVec'])\n",
    "    form_array.append(row['FORMULA'])\n",
    "    count += 1\n",
    "    if count == 11:\n",
    "        count = 0\n",
    "        concat_pred.append(pred_array)\n",
    "        concat_formulas.append(form_array)\n",
    "        pred_array = []\n",
    "        form_array = []\n",
    "\n",
    "    "
   ]
  },
  {
   "cell_type": "code",
   "execution_count": 4,
   "metadata": {},
   "outputs": [
    {
     "name": "stdout",
     "output_type": "stream",
     "text": [
      "[1.0, 0.0, 1.0, 1.0, 0.0, 0.0, 0.0, 0.0, 0.0, 0.0, 1.0]\n",
      "['Ac1', 'Ac0.9 Se0.1', 'Ac0.8 Se0.2', 'Ac0.7 Se0.3', 'Ac0.6 Se0.4', 'Ac0.5 Se0.5', 'Ac0.4 Se0.6', 'Ac0.3 Se0.7', 'Ac0.2 Se0.8', 'Ac0.1 Se0.9', 'Se1']\n"
     ]
    }
   ],
   "source": [
    "print(concat_pred[7])\n",
    "print(concat_formulas[7])"
   ]
  },
  {
   "cell_type": "code",
   "execution_count": 5,
   "metadata": {},
   "outputs": [
    {
     "name": "stdout",
     "output_type": "stream",
     "text": [
      "749\n"
     ]
    }
   ],
   "source": [
    "print(len(concat_formulas))"
   ]
  },
  {
   "cell_type": "code",
   "execution_count": 6,
   "metadata": {},
   "outputs": [
    {
     "name": "stdout",
     "output_type": "stream",
     "text": [
      "749\n"
     ]
    }
   ],
   "source": [
    "df_original = pd.read_csv('data/test_data.csv')\n",
    "print(len(df_original))"
   ]
  },
  {
   "cell_type": "code",
   "execution_count": 7,
   "metadata": {},
   "outputs": [],
   "source": [
    "df_original['predicted_stabilityVec'] = concat_pred"
   ]
  },
  {
   "cell_type": "code",
   "execution_count": 8,
   "metadata": {},
   "outputs": [],
   "source": [
    "df_original.to_csv('data/test_data_with_predictions.csv')"
   ]
  }
 ],
 "metadata": {
  "kernelspec": {
   "display_name": "Python 3",
   "language": "python",
   "name": "python3"
  },
  "language_info": {
   "codemirror_mode": {
    "name": "ipython",
    "version": 3
   },
   "file_extension": ".py",
   "mimetype": "text/x-python",
   "name": "python",
   "nbconvert_exporter": "python",
   "pygments_lexer": "ipython3",
   "version": "3.6.4"
  }
 },
 "nbformat": 4,
 "nbformat_minor": 2
}
