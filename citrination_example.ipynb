{
 "cells": [
  {
   "cell_type": "code",
   "execution_count": 2,
   "metadata": {},
   "outputs": [],
   "source": [
    "import pandas as pd\n",
    "import numpy as np\n",
    "from ast import literal_eval\n",
    "from pypif import pif\n",
    "from pymatgen import Composition\n",
    "from csv_template_ingester.converter import convert\n",
    "\n",
    "def convert_df_to_pif(df_csv_file_path):\n",
    "    \n",
    "    pifs = [x for x in convert(files=[df_csv_file_path])]\n",
    "    pif_outfile_path = df_csv_file_path.replace('.csv', '.json')\n",
    "    with open(pif_outfile_path, 'w') as output_file:\n",
    "        pif.dump(pifs, output_file)\n",
    "\n",
    "        \n",
    "    return pifs, pif_outfile_path"
   ]
  },
  {
   "cell_type": "code",
   "execution_count": 3,
   "metadata": {},
   "outputs": [],
   "source": [
    "df = pd.read_csv('training_data_modified.csv')"
   ]
  },
  {
   "cell_type": "code",
   "execution_count": 4,
   "metadata": {},
   "outputs": [
    {
     "name": "stdout",
     "output_type": "stream",
     "text": [
      "28292\n"
     ]
    }
   ],
   "source": [
    "# slice unnecessary feature columns for Citrination\n",
    "df['PROPERTY: element A'] = df['formulaA']\n",
    "df['PROPERTY: element B'] = df['formulaB']\n",
    "df['PROPERTY: stabilityVec'] = df['stabilityVec']\n",
    "df_citrination = df.filter(['FORMULA', 'PROPERTY: element A', 'PROPERTY: element B', 'PROPERTY: binary_classifier', 'PROPERTY: stabilityVec'], axis=1)\n",
    "outfile_path = 'training_data_no_features.csv'\n",
    "# df_citrination = df_citrination.sample(5000)\n",
    "print(len(df_citrination))\n",
    "df_citrination.to_csv(outfile_path)\n"
   ]
  },
  {
   "cell_type": "code",
   "execution_count": 6,
   "metadata": {},
   "outputs": [],
   "source": [
    "# convert to pif for quicker upload\n",
    "# convert_df_to_pif(outfile_path)"
   ]
  },
  {
   "cell_type": "code",
   "execution_count": 26,
   "metadata": {},
   "outputs": [
    {
     "name": "stdout",
     "output_type": "stream",
     "text": [
      "unstable 0.5238095238095237\n"
     ]
    }
   ],
   "source": [
    "from os import environ\n",
    "from pypif import pif\n",
    "import itertools\n",
    "from citrination_client import *\n",
    "\n",
    "# establish client (api key stored as enviornment variable)\n",
    "client = CitrinationClient(environ['CITRINATION_API_KEY'], 'https://citrination.com')\n",
    "\n",
    "# example predition\n",
    "resp = client.models.predict('11942', [{'formula':'NaCl'},])\n",
    "prediction = resp[0].get_value('Property binary_classifier')\n",
    "print(prediction.value, prediction.loss)"
   ]
  },
  {
   "cell_type": "code",
   "execution_count": 41,
   "metadata": {},
   "outputs": [
    {
     "name": "stdout",
     "output_type": "stream",
     "text": [
      "[{'formula': 'Ac1'}, {'formula': 'Ac0.9 Be0.1'}]\n",
      "8239\n"
     ]
    }
   ],
   "source": [
    "df_test = pd.read_csv('test_data_modified.csv')\n",
    "\n",
    "candidates = [{'formula':i} for i in df_test['FORMULA'].values]\n",
    "print(candidates[0:2])\n",
    "print(len(candidates))"
   ]
  },
  {
   "cell_type": "code",
   "execution_count": 42,
   "metadata": {},
   "outputs": [
    {
     "name": "stdout",
     "output_type": "stream",
     "text": [
      "9 239\n"
     ]
    }
   ],
   "source": [
    "batches = [candidates[x:x+1000] for x in range(0, len(candidates), 1000)]\n",
    "print(len(batches), len(batches[-1]))"
   ]
  },
  {
   "cell_type": "code",
   "execution_count": 43,
   "metadata": {},
   "outputs": [
    {
     "name": "stdout",
     "output_type": "stream",
     "text": [
      "1000\n",
      "{'formula': 'Ac1'}\n",
      "1000\n",
      "{'formula': 'Ag1'}\n",
      "1000\n",
      "{'formula': 'Eu0.1 Ge0.9'}\n",
      "1000\n",
      "{'formula': 'Lu0.8 In0.2'}\n",
      "1000\n",
      "{'formula': 'Na0.3 Ga0.7'}\n",
      "1000\n",
      "{'formula': 'Pm0.4 Mg0.6'}\n",
      "1000\n",
      "{'formula': 'Na0.5 Sb0.5'}\n",
      "1000\n",
      "{'formula': 'Cs0.4 Te0.6'}\n",
      "239\n",
      "{'formula': 'Yb0.7 Se0.3'}\n",
      "stable\n"
     ]
    }
   ],
   "source": [
    "import csv\n",
    "dv_id = '11942'\n",
    "view = client.models.get_data_view(dv_id)\n",
    "\n",
    "predictions = []\n",
    "prediction_errors = []\n",
    "for batch in batches:\n",
    "    print(len(batch))\n",
    "    print(batch[0])\n",
    "    resp = client.models.predict(dv_id, batch)\n",
    "    predictions.extend([r.get_value('Property binary_classifier').value for r in resp])\n",
    "    prediction_errors.extend([r.get_value('Property binary_classifier').loss for r in resp])\n",
    "\n",
    "print(predictions[0])"
   ]
  },
  {
   "cell_type": "code",
   "execution_count": 44,
   "metadata": {},
   "outputs": [
    {
     "name": "stdout",
     "output_type": "stream",
     "text": [
      "8239\n",
      "stable\n"
     ]
    }
   ],
   "source": [
    "print(len(predictions))\n",
    "print(predictions[0])"
   ]
  },
  {
   "cell_type": "code",
   "execution_count": 45,
   "metadata": {},
   "outputs": [],
   "source": [
    "df_test['Predicted Stabilityvec'] = predictions\n",
    "df_test['Predicted Stabilityvec error'] = prediction_errors"
   ]
  },
  {
   "cell_type": "code",
   "execution_count": 46,
   "metadata": {},
   "outputs": [],
   "source": [
    "df_test.to_csv('test_data_modified_with_predicitions.csv')"
   ]
  },
  {
   "cell_type": "code",
   "execution_count": 52,
   "metadata": {},
   "outputs": [
    {
     "name": "stdout",
     "output_type": "stream",
     "text": [
      "[[1, 0, 0, 0, 0, 0, 0, 0, 0, 0, 1], [1, 0, 0, 0, 0, 0, 0, 0, 0, 0, 1], [1, 0, 0, 0, 0, 0, 0, 0, 0, 0, 1]]\n",
      "749\n"
     ]
    }
   ],
   "source": [
    "stabilityVec = []\n",
    "temp_vec = []\n",
    "count = 0\n",
    "for p in predictions:\n",
    "    if p == 'unstable':\n",
    "        i = 0\n",
    "    else:\n",
    "        i = 1\n",
    "    temp_vec.append(i)\n",
    "    count += 1\n",
    "    if count == 11:\n",
    "        stabilityVec.append(temp_vec)\n",
    "        temp_vec = []\n",
    "        count = 0\n",
    "print(stabilityVec[0:3])\n",
    "print(len(stabilityVec))"
   ]
  },
  {
   "cell_type": "code",
   "execution_count": null,
   "metadata": {},
   "outputs": [],
   "source": []
  }
 ],
 "metadata": {
  "kernelspec": {
   "display_name": "Python 3",
   "language": "python",
   "name": "python3"
  },
  "language_info": {
   "codemirror_mode": {
    "name": "ipython",
    "version": 3
   },
   "file_extension": ".py",
   "mimetype": "text/x-python",
   "name": "python",
   "nbconvert_exporter": "python",
   "pygments_lexer": "ipython3",
   "version": "3.6.4"
  }
 },
 "nbformat": 4,
 "nbformat_minor": 2
}
