{
 "cells": [
  {
   "cell_type": "markdown",
   "metadata": {},
   "source": [
    "# in this example we will use magpie"
   ]
  },
  {
   "cell_type": "code",
   "execution_count": 55,
   "metadata": {},
   "outputs": [
    {
     "name": "stdout",
     "output_type": "stream",
     "text": [
      "28292\n"
     ]
    }
   ],
   "source": [
    "import numpy as np\n",
    "import pandas as pd\n",
    "df = pd.read_csv('data/training_data_exploded_magpie_featurized.csv')\n",
    "print(len(df))"
   ]
  },
  {
   "cell_type": "code",
   "execution_count": 56,
   "metadata": {},
   "outputs": [
    {
     "name": "stdout",
     "output_type": "stream",
     "text": [
      "0.0    20655\n",
      "1.0     7637\n",
      "Name: stabilityVec, dtype: int64\n",
      "stable binaries:  2493\n",
      "unstable binaries:  20655\n",
      "stable monatomic:  5144\n",
      "unstable monatomic:  0\n"
     ]
    }
   ],
   "source": [
    "# lets see what we're working with. \n",
    "# Hypothesis: majority of binaries are unstable. Monoatomics will all be stable. This will create a large class imbalance.\n",
    "counts = df['stabilityVec'].value_counts()\n",
    "stable_binaries = df[(df['stabilityVec'] == 1) & (df['FORMULA'].str.contains('\\.'))]\n",
    "unstable_binaries = df[(df['stabilityVec'] == 0) & (df['FORMULA'].str.contains('\\.'))]\n",
    "stable_monatomic = df[(df['stabilityVec'] == 1) & (~df['FORMULA'].str.contains('\\.'))]\n",
    "unstable_monatomic = df[(df['stabilityVec'] == 0) & (~df['FORMULA'].str.contains('\\.'))]\n",
    "print(counts)\n",
    "print('stable binaries: ', len(stable_binaries))\n",
    "print('unstable binaries: ', len(unstable_binaries))\n",
    "print('stable monatomic: ', len(stable_monatomic))\n",
    "print('unstable monatomic: ', len(unstable_monatomic))"
   ]
  },
  {
   "cell_type": "code",
   "execution_count": null,
   "metadata": {},
   "outputs": [],
   "source": []
  },
  {
   "cell_type": "code",
   "execution_count": 57,
   "metadata": {},
   "outputs": [
    {
     "name": "stdout",
     "output_type": "stream",
     "text": [
      "There are 120 possible descriptors:\n",
      "\n",
      "['MagpieData minimum Number' 'MagpieData maximum Number'\n",
      " 'MagpieData range Number' 'MagpieData mean Number'\n",
      " 'MagpieData avg_dev Number' 'MagpieData mode Number'\n",
      " 'MagpieData minimum MendeleevNumber' 'MagpieData maximum MendeleevNumber'\n",
      " 'MagpieData range MendeleevNumber' 'MagpieData mean MendeleevNumber'\n",
      " 'MagpieData avg_dev MendeleevNumber' 'MagpieData mode MendeleevNumber'\n",
      " 'MagpieData minimum AtomicWeight' 'MagpieData maximum AtomicWeight'\n",
      " 'MagpieData range AtomicWeight' 'MagpieData mean AtomicWeight'\n",
      " 'MagpieData avg_dev AtomicWeight' 'MagpieData mode AtomicWeight'\n",
      " 'MagpieData minimum Column' 'MagpieData maximum Column'\n",
      " 'MagpieData range Column' 'MagpieData mean Column'\n",
      " 'MagpieData avg_dev Column' 'MagpieData mode Column'\n",
      " 'MagpieData minimum Row' 'MagpieData maximum Row' 'MagpieData range Row'\n",
      " 'MagpieData mean Row' 'MagpieData avg_dev Row' 'MagpieData mode Row'\n",
      " 'MagpieData minimum CovalentRadius' 'MagpieData maximum CovalentRadius'\n",
      " 'MagpieData range CovalentRadius' 'MagpieData mean CovalentRadius'\n",
      " 'MagpieData avg_dev CovalentRadius' 'MagpieData mode CovalentRadius'\n",
      " 'MagpieData minimum NsValence' 'MagpieData maximum NsValence'\n",
      " 'MagpieData range NsValence' 'MagpieData mean NsValence'\n",
      " 'MagpieData avg_dev NsValence' 'MagpieData mode NsValence'\n",
      " 'MagpieData minimum NpValence' 'MagpieData maximum NpValence'\n",
      " 'MagpieData range NpValence' 'MagpieData mean NpValence'\n",
      " 'MagpieData avg_dev NpValence' 'MagpieData mode NpValence'\n",
      " 'MagpieData minimum NdValence' 'MagpieData maximum NdValence'\n",
      " 'MagpieData range NdValence' 'MagpieData mean NdValence'\n",
      " 'MagpieData avg_dev NdValence' 'MagpieData mode NdValence'\n",
      " 'MagpieData minimum NfValence' 'MagpieData maximum NfValence'\n",
      " 'MagpieData range NfValence' 'MagpieData mean NfValence'\n",
      " 'MagpieData avg_dev NfValence' 'MagpieData mode NfValence'\n",
      " 'MagpieData minimum NValence' 'MagpieData maximum NValence'\n",
      " 'MagpieData range NValence' 'MagpieData mean NValence'\n",
      " 'MagpieData avg_dev NValence' 'MagpieData mode NValence'\n",
      " 'MagpieData minimum NsUnfilled' 'MagpieData maximum NsUnfilled'\n",
      " 'MagpieData range NsUnfilled' 'MagpieData mean NsUnfilled'\n",
      " 'MagpieData avg_dev NsUnfilled' 'MagpieData mode NsUnfilled'\n",
      " 'MagpieData minimum NpUnfilled' 'MagpieData maximum NpUnfilled'\n",
      " 'MagpieData range NpUnfilled' 'MagpieData mean NpUnfilled'\n",
      " 'MagpieData avg_dev NpUnfilled' 'MagpieData mode NpUnfilled'\n",
      " 'MagpieData minimum NdUnfilled' 'MagpieData maximum NdUnfilled'\n",
      " 'MagpieData range NdUnfilled' 'MagpieData mean NdUnfilled'\n",
      " 'MagpieData avg_dev NdUnfilled' 'MagpieData mode NdUnfilled'\n",
      " 'MagpieData minimum NfUnfilled' 'MagpieData maximum NfUnfilled'\n",
      " 'MagpieData range NfUnfilled' 'MagpieData mean NfUnfilled'\n",
      " 'MagpieData avg_dev NfUnfilled' 'MagpieData mode NfUnfilled'\n",
      " 'MagpieData minimum NUnfilled' 'MagpieData maximum NUnfilled'\n",
      " 'MagpieData range NUnfilled' 'MagpieData mean NUnfilled'\n",
      " 'MagpieData avg_dev NUnfilled' 'MagpieData mode NUnfilled'\n",
      " 'MagpieData minimum GSvolume_pa' 'MagpieData maximum GSvolume_pa'\n",
      " 'MagpieData range GSvolume_pa' 'MagpieData mean GSvolume_pa'\n",
      " 'MagpieData avg_dev GSvolume_pa' 'MagpieData mode GSvolume_pa'\n",
      " 'MagpieData minimum GSbandgap' 'MagpieData maximum GSbandgap'\n",
      " 'MagpieData range GSbandgap' 'MagpieData mean GSbandgap'\n",
      " 'MagpieData avg_dev GSbandgap' 'MagpieData mode GSbandgap'\n",
      " 'MagpieData minimum GSmagmom' 'MagpieData maximum GSmagmom'\n",
      " 'MagpieData range GSmagmom' 'MagpieData mean GSmagmom'\n",
      " 'MagpieData avg_dev GSmagmom' 'MagpieData mode GSmagmom'\n",
      " 'MagpieData minimum SpaceGroupNumber'\n",
      " 'MagpieData maximum SpaceGroupNumber' 'MagpieData range SpaceGroupNumber'\n",
      " 'MagpieData mean SpaceGroupNumber' 'MagpieData avg_dev SpaceGroupNumber'\n",
      " 'MagpieData mode SpaceGroupNumber']\n"
     ]
    }
   ],
   "source": [
    "# define inputs and outputs: y = label(s), X=features\n",
    "# https://github.com/hackingmaterials/matminer_examples/blob/master/matminer_examples/machine_learning-nb/bulk_modulus.ipynb\n",
    "y = df['stabilityVec'].values\n",
    "\n",
    "excluded = ['Unnamed: 0', 'FORMULA', 'composition', 'stabilityVec']\n",
    "X = df.drop(excluded, axis=1)\n",
    "\n",
    "print(\"There are {} possible descriptors:\\n\\n{}\".format(X.shape[1], X.columns.values))"
   ]
  },
  {
   "cell_type": "code",
   "execution_count": 58,
   "metadata": {},
   "outputs": [
    {
     "data": {
      "text/plain": [
       "RandomForestClassifier(bootstrap=True, class_weight=None, criterion='gini',\n",
       "            max_depth=None, max_features='auto', max_leaf_nodes=None,\n",
       "            min_impurity_decrease=0.0, min_impurity_split=None,\n",
       "            min_samples_leaf=1, min_samples_split=2,\n",
       "            min_weight_fraction_leaf=0.0, n_estimators=20, n_jobs=None,\n",
       "            oob_score=False, random_state=1, verbose=0, warm_start=False)"
      ]
     },
     "execution_count": 58,
     "metadata": {},
     "output_type": "execute_result"
    }
   ],
   "source": [
    "# import a random forest algorithm, fit data, make predictions\n",
    "from sklearn.ensemble import RandomForestClassifier\n",
    "from sklearn.metrics import mean_squared_error\n",
    "from sklearn.model_selection import train_test_split\n",
    "\n",
    "X_train, X_test, y_train, y_test = train_test_split(X, y, test_size=0.33, random_state=1)\n",
    "rf = RandomForestClassifier(n_estimators=20, random_state=1)\n",
    "rf.fit(X_train, y_train)"
   ]
  },
  {
   "cell_type": "code",
   "execution_count": 59,
   "metadata": {},
   "outputs": [],
   "source": [
    "rf_predict = rf.predict(X_test)"
   ]
  },
  {
   "cell_type": "code",
   "execution_count": 60,
   "metadata": {},
   "outputs": [],
   "source": [
    "from sklearn.model_selection import cross_val_score, KFold\n",
    "from sklearn.metrics import classification_report, confusion_matrix\n",
    "\n",
    "# 10-fold CV (90% = training, 10% = test)\n",
    "crossvalidation = KFold(n_splits=3, shuffle=False, random_state=1)\n",
    "rf_cv_score = cross_val_score(rf, X, y, cv=crossvalidation, scoring='roc_auc')"
   ]
  },
  {
   "cell_type": "code",
   "execution_count": 61,
   "metadata": {},
   "outputs": [],
   "source": [
    "# https://medium.com/@hjhuney/implementing-a-random-forest-classification-model-in-python-583891c99652\n",
    "confusion_matrix = confusion_matrix(y_test, rf_predict)\n",
    "class_report = classification_report(y_test, rf_predict)\n",
    "cv_scores = rf_cv_score\n",
    "avg_auroc = rf_cv_score.mean()"
   ]
  },
  {
   "cell_type": "code",
   "execution_count": 62,
   "metadata": {},
   "outputs": [
    {
     "name": "stdout",
     "output_type": "stream",
     "text": [
      "[0.96082748 0.96762933 0.96143959]\n",
      "0.9632988014853429\n"
     ]
    }
   ],
   "source": [
    "print(cv_scores)\n",
    "print(avg_auroc)"
   ]
  },
  {
   "cell_type": "code",
   "execution_count": null,
   "metadata": {},
   "outputs": [],
   "source": [
    "# method 1: cross-validation\n",
    "# 1a: test-train split\n",
    "# 1b: k-fold cv\n",
    "# method 2: compare against \"ground truth\" in this case, we will pull in some DFT-predicted stabilities. "
   ]
  },
  {
   "cell_type": "code",
   "execution_count": 63,
   "metadata": {},
   "outputs": [
    {
     "name": "stdout",
     "output_type": "stream",
     "text": [
      "There are 120 possible descriptors\n"
     ]
    }
   ],
   "source": [
    "# Great, we have a model trained on our data. let's make some predictions for our training set and test set.\n",
    "# hypothesis: should have high accuracy for training set and lower for test set.\n",
    "test_data = 'data/test_data_exploded_magpie_featurized.csv'\n",
    "df_test = pd.read_csv(test_data)\n",
    "excluded = ['Unnamed: 0', 'FORMULA', 'composition']\n",
    "X_test = df_test.drop(excluded, axis=1)\n",
    "print(\"There are {} possible descriptors\".format(X_test.shape[1]))"
   ]
  },
  {
   "cell_type": "code",
   "execution_count": 65,
   "metadata": {},
   "outputs": [
    {
     "name": "stdout",
     "output_type": "stream",
     "text": [
      "8239 8239\n",
      "0.0    6426\n",
      "1.0    1813\n",
      "Name: predicted_stabilityVec, dtype: int64\n",
      "     Unnamed: 0      FORMULA  composition  MagpieData minimum Number  \\\n",
      "79            7  Ac0.8 Se0.2  Ac0.8 Se0.2                       34.0   \n",
      "80            7  Ac0.7 Se0.3  Ac0.7 Se0.3                       34.0   \n",
      "135          12  Mg0.3 Ag0.7  Mg0.3 Ag0.7                       12.0   \n",
      "137          12  Mg0.5 Ag0.5  Mg0.5 Ag0.5                       12.0   \n",
      "139          12  Mg0.7 Ag0.3  Mg0.7 Ag0.3                       12.0   \n",
      "\n",
      "     MagpieData maximum Number  MagpieData range Number  \\\n",
      "79                        89.0                     55.0   \n",
      "80                        89.0                     55.0   \n",
      "135                       47.0                     35.0   \n",
      "137                       47.0                     35.0   \n",
      "139                       47.0                     35.0   \n",
      "\n",
      "     MagpieData mean Number  MagpieData avg_dev Number  \\\n",
      "79                     78.0                       17.6   \n",
      "80                     72.5                       23.1   \n",
      "135                    36.5                       14.7   \n",
      "137                    29.5                       17.5   \n",
      "139                    22.5                       14.7   \n",
      "\n",
      "     MagpieData mode Number  MagpieData minimum MendeleevNumber  ...  \\\n",
      "79                     89.0                                14.0  ...   \n",
      "80                     89.0                                14.0  ...   \n",
      "135                    47.0                                65.0  ...   \n",
      "137                    12.0                                65.0  ...   \n",
      "139                    12.0                                65.0  ...   \n",
      "\n",
      "     MagpieData mean GSmagmom  MagpieData avg_dev GSmagmom  \\\n",
      "79                        0.0                          0.0   \n",
      "80                        0.0                          0.0   \n",
      "135                       0.0                          0.0   \n",
      "137                       0.0                          0.0   \n",
      "139                       0.0                          0.0   \n",
      "\n",
      "     MagpieData mode GSmagmom  MagpieData minimum SpaceGroupNumber  \\\n",
      "79                        0.0                                 14.0   \n",
      "80                        0.0                                 14.0   \n",
      "135                       0.0                                194.0   \n",
      "137                       0.0                                194.0   \n",
      "139                       0.0                                194.0   \n",
      "\n",
      "     MagpieData maximum SpaceGroupNumber  MagpieData range SpaceGroupNumber  \\\n",
      "79                                 225.0                              211.0   \n",
      "80                                 225.0                              211.0   \n",
      "135                                225.0                               31.0   \n",
      "137                                225.0                               31.0   \n",
      "139                                225.0                               31.0   \n",
      "\n",
      "     MagpieData mean SpaceGroupNumber  MagpieData avg_dev SpaceGroupNumber  \\\n",
      "79                              182.8                                67.52   \n",
      "80                              161.7                                88.62   \n",
      "135                             215.7                                13.02   \n",
      "137                             209.5                                15.50   \n",
      "139                             203.3                                13.02   \n",
      "\n",
      "     MagpieData mode SpaceGroupNumber  predicted_stabilityVec  \n",
      "79                              225.0                     1.0  \n",
      "80                              225.0                     1.0  \n",
      "135                             225.0                     1.0  \n",
      "137                             194.0                     1.0  \n",
      "139                             194.0                     1.0  \n",
      "\n",
      "[5 rows x 124 columns]\n"
     ]
    }
   ],
   "source": [
    "print(len(df_test), len(X_test))\n",
    "df_test['predicted_stabilityVec'] = rf.predict(X_test)\n",
    "print(df_test['predicted_stabilityVec'].value_counts())\n",
    "stable_binaries = df_test[(df_test['predicted_stabilityVec'] == 1) & (df_test['FORMULA'].str.contains('\\.'))]\n",
    "print((stable_binaries.head()))\n",
    "df_test.to_csv('data/test_data_exploded_magpie_featurized_predictions.csv')"
   ]
  },
  {
   "cell_type": "code",
   "execution_count": 106,
   "metadata": {},
   "outputs": [
    {
     "name": "stdout",
     "output_type": "stream",
     "text": [
      "132 132\n"
     ]
    }
   ],
   "source": [
    "# test data\n",
    "df_test = pd.read_csv('test_data_magpie_featurized.csv')\n",
    "excluded = ['Unnamed: 0', 'FORMULA', 'composition']\n",
    "X_test = df_test.drop(excluded, axis=1)\n",
    "print(len(X.columns), len(X_test.columns))\n",
    "df_test['predicted_stabilityVec'] = rf.predict(X_test)\n",
    "df_test = df_test.filter(['FORMULA', 'predicted_stabilityVec'], axis=1)\n",
    "df_test.to_csv('test_data_predictions.csv')"
   ]
  },
  {
   "cell_type": "code",
   "execution_count": 107,
   "metadata": {},
   "outputs": [
    {
     "name": "stdout",
     "output_type": "stream",
     "text": [
      "0.0    5854\n",
      "1.0     462\n",
      "Name: predicted_stabilityVec, dtype: int64\n"
     ]
    }
   ],
   "source": [
    "print(df_test['predicted_stabilityVec'].value_counts())"
   ]
  },
  {
   "cell_type": "code",
   "execution_count": 73,
   "metadata": {},
   "outputs": [
    {
     "name": "stdout",
     "output_type": "stream",
     "text": [
      "correct      21406\n",
      "incorrect      165\n",
      "Name: result, dtype: int64\n"
     ]
    }
   ],
   "source": [
    "df_equal = df['PROPERTY: stabilityVec'].equals(df['predicted_stabilityVec'])\n",
    "df['result'] = np.where(df['PROPERTY: stabilityVec'] == df['predicted_stabilityVec'], 'correct', 'incorrect')\n",
    "print(df['result'].value_counts())"
   ]
  },
  {
   "cell_type": "code",
   "execution_count": 50,
   "metadata": {},
   "outputs": [
    {
     "name": "stdout",
     "output_type": "stream",
     "text": [
      "Cross-validation results:\n",
      "Folds: 10, mean R2: 0.983\n",
      "Folds: 10, mean RMSE: 0.035\n"
     ]
    }
   ],
   "source": [
    "from sklearn.model_selection import KFold, cross_val_score\n",
    "crossvalidation = KFold(n_splits=10, shuffle=False, random_state=1)\n",
    "\n",
    "# compute cross validation scores for random forest model\n",
    "r2_scores = cross_val_score(rf, X, y, scoring='r2', cv=crossvalidation, n_jobs=-1)\n",
    "scores = cross_val_score(rf, X, y, scoring='neg_mean_squared_error', cv=crossvalidation, n_jobs=-1)\n",
    "rmse_scores = [np.sqrt(abs(s)) for s in scores]\n",
    "\n",
    "print('Cross-validation results:')\n",
    "print('Folds: %i, mean R2: %.3f' % (len(scores), np.mean(np.abs(r2_scores))))\n",
    "print('Folds: %i, mean RMSE: %.3f' % (len(scores), np.mean(np.abs(rmse_scores))))"
   ]
  },
  {
   "cell_type": "code",
   "execution_count": 58,
   "metadata": {},
   "outputs": [
    {
     "name": "stdout",
     "output_type": "stream",
     "text": [
      "18999 0 42 2530\n",
      "0.9836702954898912 1.0 0.9917679341434731\n"
     ]
    }
   ],
   "source": [
    "from sklearn.model_selection import cross_val_predict\n",
    "from sklearn.metrics import confusion_matrix\n",
    "y_pred = cross_val_predict(rf, X, y, cv=crossvalidation)\n",
    "confusion_matrix(y, y_pred,)\n",
    "tn, fp, fn, tp = confusion_matrix(y, y_pred).ravel()\n",
    "print(tn, fp, fn, tp)\n",
    "recall = tp / (tp + fn)\n",
    "precision = tp / (tp + fp)\n",
    "F_score = (2 * recall * precision) / (recall + precision)\n",
    "print(recall, precision, F_score)"
   ]
  },
  {
   "cell_type": "code",
   "execution_count": 54,
   "metadata": {},
   "outputs": [
    {
     "data": {
      "text/plain": [
       "<matplotlib.collections.PathCollection at 0x12187f8d0>"
      ]
     },
     "execution_count": 54,
     "metadata": {},
     "output_type": "execute_result"
    },
    {
     "data": {
      "image/png": "[encoded data removed]",
      "text/plain": [
       "<Figure size 432x288 with 1 Axes>"
      ]
     },
     "metadata": {},
     "output_type": "display_data"
    }
   ],
   "source": [
    "import matplotlib.pyplot as plt\n",
    "\n",
    "plt.scatter(y, y_pred)"
   ]
  },
  {
   "cell_type": "code",
   "execution_count": null,
   "metadata": {},
   "outputs": [],
   "source": [
    "feature_importances = pd.DataFrame(rf.feature_importances_, index = X_train.columns, columns=['importance']).sort_values('importance', ascending=False)\n",
    "print(feature_importances)"
   ]
  }
 ],
 "metadata": {
  "kernelspec": {
   "display_name": "Python 3",
   "language": "python",
   "name": "python3"
  },
  "language_info": {
   "codemirror_mode": {
    "name": "ipython",
    "version": 3
   },
   "file_extension": ".py",
   "mimetype": "text/x-python",
   "name": "python",
   "nbconvert_exporter": "python",
   "pygments_lexer": "ipython3",
   "version": "3.6.4"
  }
 },
 "nbformat": 4,
 "nbformat_minor": 2
}
