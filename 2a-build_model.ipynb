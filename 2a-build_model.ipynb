{
 "cells": [
  {
   "cell_type": "markdown",
   "metadata": {},
   "source": [
    "# in this example we will use magpie"
   ]
  },
  {
   "cell_type": "code",
   "execution_count": 16,
   "metadata": {},
   "outputs": [
    {
     "name": "stdout",
     "output_type": "stream",
     "text": [
      "28292\n",
      "23230\n"
     ]
    }
   ],
   "source": [
    "import numpy as np\n",
    "import pandas as pd\n",
    "df = pd.read_csv('training_data_no_features.csv')\n",
    "print(len(df))\n",
    "df = df.drop_duplicates(subset='FORMULA')\n",
    "print(len(df))"
   ]
  },
  {
   "cell_type": "code",
   "execution_count": 17,
   "metadata": {},
   "outputs": [
    {
     "data": {
      "application/vnd.jupyter.widget-view+json": {
       "model_id": "a72a7d30ae594ad8bd68550404079dd5",
       "version_major": 2,
       "version_minor": 0
      },
      "text/html": [
       "<p>Failed to display Jupyter Widget of type <code>HBox</code>.</p>\n",
       "<p>\n",
       "  If you're reading this message in the Jupyter Notebook or JupyterLab Notebook, it may mean\n",
       "  that the widgets JavaScript is still loading. If this message persists, it\n",
       "  likely means that the widgets JavaScript library is either not installed or\n",
       "  not enabled. See the <a href=\"https://ipywidgets.readthedocs.io/en/stable/user_install.html\">Jupyter\n",
       "  Widgets Documentation</a> for setup instructions.\n",
       "</p>\n",
       "<p>\n",
       "  If you're reading this message in another frontend (for example, a static\n",
       "  rendering on GitHub or <a href=\"https://nbviewer.jupyter.org/\">NBViewer</a>),\n",
       "  it may mean that your frontend doesn't currently support widgets.\n",
       "</p>\n"
      ],
      "text/plain": [
       "HBox(children=(IntProgress(value=0, description='StrToComposition', max=23230), HTML(value='')))"
      ]
     },
     "metadata": {},
     "output_type": "display_data"
    },
    {
     "name": "stdout",
     "output_type": "stream",
     "text": [
      "\n"
     ]
    },
    {
     "data": {
      "application/vnd.jupyter.widget-view+json": {
       "model_id": "6c470e0e5be24a2d98518912d122ca02",
       "version_major": 2,
       "version_minor": 0
      },
      "text/html": [
       "<p>Failed to display Jupyter Widget of type <code>HBox</code>.</p>\n",
       "<p>\n",
       "  If you're reading this message in the Jupyter Notebook or JupyterLab Notebook, it may mean\n",
       "  that the widgets JavaScript is still loading. If this message persists, it\n",
       "  likely means that the widgets JavaScript library is either not installed or\n",
       "  not enabled. See the <a href=\"https://ipywidgets.readthedocs.io/en/stable/user_install.html\">Jupyter\n",
       "  Widgets Documentation</a> for setup instructions.\n",
       "</p>\n",
       "<p>\n",
       "  If you're reading this message in another frontend (for example, a static\n",
       "  rendering on GitHub or <a href=\"https://nbviewer.jupyter.org/\">NBViewer</a>),\n",
       "  it may mean that your frontend doesn't currently support widgets.\n",
       "</p>\n"
      ],
      "text/plain": [
       "HBox(children=(IntProgress(value=0, description='ElementProperty', max=23230), HTML(value='')))"
      ]
     },
     "metadata": {},
     "output_type": "display_data"
    },
    {
     "name": "stdout",
     "output_type": "stream",
     "text": [
      "\n"
     ]
    },
    {
     "data": {
      "text/html": [
       "<div>\n",
       "<style scoped>\n",
       "    .dataframe tbody tr th:only-of-type {\n",
       "        vertical-align: middle;\n",
       "    }\n",
       "\n",
       "    .dataframe tbody tr th {\n",
       "        vertical-align: top;\n",
       "    }\n",
       "\n",
       "    .dataframe thead th {\n",
       "        text-align: right;\n",
       "    }\n",
       "</style>\n",
       "<table border=\"1\" class=\"dataframe\">\n",
       "  <thead>\n",
       "    <tr style=\"text-align: right;\">\n",
       "      <th></th>\n",
       "      <th>Unnamed: 0</th>\n",
       "      <th>FORMULA</th>\n",
       "      <th>PROPERTY: element A</th>\n",
       "      <th>PROPERTY: element B</th>\n",
       "      <th>PROPERTY: binary_classifier</th>\n",
       "      <th>PROPERTY: stabilityVec</th>\n",
       "      <th>composition</th>\n",
       "      <th>MagpieData minimum Number</th>\n",
       "      <th>MagpieData maximum Number</th>\n",
       "      <th>MagpieData range Number</th>\n",
       "      <th>...</th>\n",
       "      <th>MagpieData range GSmagmom</th>\n",
       "      <th>MagpieData mean GSmagmom</th>\n",
       "      <th>MagpieData avg_dev GSmagmom</th>\n",
       "      <th>MagpieData mode GSmagmom</th>\n",
       "      <th>MagpieData minimum SpaceGroupNumber</th>\n",
       "      <th>MagpieData maximum SpaceGroupNumber</th>\n",
       "      <th>MagpieData range SpaceGroupNumber</th>\n",
       "      <th>MagpieData mean SpaceGroupNumber</th>\n",
       "      <th>MagpieData avg_dev SpaceGroupNumber</th>\n",
       "      <th>MagpieData mode SpaceGroupNumber</th>\n",
       "    </tr>\n",
       "  </thead>\n",
       "  <tbody>\n",
       "    <tr>\n",
       "      <th>0</th>\n",
       "      <td>0</td>\n",
       "      <td>Ac1</td>\n",
       "      <td>Ac</td>\n",
       "      <td>Ag</td>\n",
       "      <td>stable</td>\n",
       "      <td>1.0</td>\n",
       "      <td>(Ac)</td>\n",
       "      <td>89.0</td>\n",
       "      <td>89.0</td>\n",
       "      <td>0.0</td>\n",
       "      <td>...</td>\n",
       "      <td>0.0</td>\n",
       "      <td>0.0</td>\n",
       "      <td>0.0</td>\n",
       "      <td>0.0</td>\n",
       "      <td>225.0</td>\n",
       "      <td>225.0</td>\n",
       "      <td>0.0</td>\n",
       "      <td>225.0</td>\n",
       "      <td>0.0</td>\n",
       "      <td>225.0</td>\n",
       "    </tr>\n",
       "    <tr>\n",
       "      <th>1</th>\n",
       "      <td>1</td>\n",
       "      <td>Ac0.9 Ag0.1</td>\n",
       "      <td>Ac</td>\n",
       "      <td>Ag</td>\n",
       "      <td>unstable</td>\n",
       "      <td>0.0</td>\n",
       "      <td>(Ac, Ag)</td>\n",
       "      <td>47.0</td>\n",
       "      <td>89.0</td>\n",
       "      <td>42.0</td>\n",
       "      <td>...</td>\n",
       "      <td>0.0</td>\n",
       "      <td>0.0</td>\n",
       "      <td>0.0</td>\n",
       "      <td>0.0</td>\n",
       "      <td>225.0</td>\n",
       "      <td>225.0</td>\n",
       "      <td>0.0</td>\n",
       "      <td>225.0</td>\n",
       "      <td>0.0</td>\n",
       "      <td>225.0</td>\n",
       "    </tr>\n",
       "    <tr>\n",
       "      <th>2</th>\n",
       "      <td>2</td>\n",
       "      <td>Ac0.8 Ag0.2</td>\n",
       "      <td>Ac</td>\n",
       "      <td>Ag</td>\n",
       "      <td>unstable</td>\n",
       "      <td>0.0</td>\n",
       "      <td>(Ac, Ag)</td>\n",
       "      <td>47.0</td>\n",
       "      <td>89.0</td>\n",
       "      <td>42.0</td>\n",
       "      <td>...</td>\n",
       "      <td>0.0</td>\n",
       "      <td>0.0</td>\n",
       "      <td>0.0</td>\n",
       "      <td>0.0</td>\n",
       "      <td>225.0</td>\n",
       "      <td>225.0</td>\n",
       "      <td>0.0</td>\n",
       "      <td>225.0</td>\n",
       "      <td>0.0</td>\n",
       "      <td>225.0</td>\n",
       "    </tr>\n",
       "    <tr>\n",
       "      <th>3</th>\n",
       "      <td>3</td>\n",
       "      <td>Ac0.7 Ag0.3</td>\n",
       "      <td>Ac</td>\n",
       "      <td>Ag</td>\n",
       "      <td>stable</td>\n",
       "      <td>1.0</td>\n",
       "      <td>(Ac, Ag)</td>\n",
       "      <td>47.0</td>\n",
       "      <td>89.0</td>\n",
       "      <td>42.0</td>\n",
       "      <td>...</td>\n",
       "      <td>0.0</td>\n",
       "      <td>0.0</td>\n",
       "      <td>0.0</td>\n",
       "      <td>0.0</td>\n",
       "      <td>225.0</td>\n",
       "      <td>225.0</td>\n",
       "      <td>0.0</td>\n",
       "      <td>225.0</td>\n",
       "      <td>0.0</td>\n",
       "      <td>225.0</td>\n",
       "    </tr>\n",
       "    <tr>\n",
       "      <th>4</th>\n",
       "      <td>4</td>\n",
       "      <td>Ac0.6 Ag0.4</td>\n",
       "      <td>Ac</td>\n",
       "      <td>Ag</td>\n",
       "      <td>unstable</td>\n",
       "      <td>0.0</td>\n",
       "      <td>(Ac, Ag)</td>\n",
       "      <td>47.0</td>\n",
       "      <td>89.0</td>\n",
       "      <td>42.0</td>\n",
       "      <td>...</td>\n",
       "      <td>0.0</td>\n",
       "      <td>0.0</td>\n",
       "      <td>0.0</td>\n",
       "      <td>0.0</td>\n",
       "      <td>225.0</td>\n",
       "      <td>225.0</td>\n",
       "      <td>0.0</td>\n",
       "      <td>225.0</td>\n",
       "      <td>0.0</td>\n",
       "      <td>225.0</td>\n",
       "    </tr>\n",
       "  </tbody>\n",
       "</table>\n",
       "<p>5 rows × 139 columns</p>\n",
       "</div>"
      ],
      "text/plain": [
       "   Unnamed: 0      FORMULA PROPERTY: element A PROPERTY: element B  \\\n",
       "0           0          Ac1                  Ac                  Ag   \n",
       "1           1  Ac0.9 Ag0.1                  Ac                  Ag   \n",
       "2           2  Ac0.8 Ag0.2                  Ac                  Ag   \n",
       "3           3  Ac0.7 Ag0.3                  Ac                  Ag   \n",
       "4           4  Ac0.6 Ag0.4                  Ac                  Ag   \n",
       "\n",
       "  PROPERTY: binary_classifier  PROPERTY: stabilityVec composition  \\\n",
       "0                      stable                     1.0        (Ac)   \n",
       "1                    unstable                     0.0    (Ac, Ag)   \n",
       "2                    unstable                     0.0    (Ac, Ag)   \n",
       "3                      stable                     1.0    (Ac, Ag)   \n",
       "4                    unstable                     0.0    (Ac, Ag)   \n",
       "\n",
       "   MagpieData minimum Number  MagpieData maximum Number  \\\n",
       "0                       89.0                       89.0   \n",
       "1                       47.0                       89.0   \n",
       "2                       47.0                       89.0   \n",
       "3                       47.0                       89.0   \n",
       "4                       47.0                       89.0   \n",
       "\n",
       "   MagpieData range Number  ...  MagpieData range GSmagmom  \\\n",
       "0                      0.0  ...                        0.0   \n",
       "1                     42.0  ...                        0.0   \n",
       "2                     42.0  ...                        0.0   \n",
       "3                     42.0  ...                        0.0   \n",
       "4                     42.0  ...                        0.0   \n",
       "\n",
       "   MagpieData mean GSmagmom  MagpieData avg_dev GSmagmom  \\\n",
       "0                       0.0                          0.0   \n",
       "1                       0.0                          0.0   \n",
       "2                       0.0                          0.0   \n",
       "3                       0.0                          0.0   \n",
       "4                       0.0                          0.0   \n",
       "\n",
       "   MagpieData mode GSmagmom  MagpieData minimum SpaceGroupNumber  \\\n",
       "0                       0.0                                225.0   \n",
       "1                       0.0                                225.0   \n",
       "2                       0.0                                225.0   \n",
       "3                       0.0                                225.0   \n",
       "4                       0.0                                225.0   \n",
       "\n",
       "   MagpieData maximum SpaceGroupNumber  MagpieData range SpaceGroupNumber  \\\n",
       "0                                225.0                                0.0   \n",
       "1                                225.0                                0.0   \n",
       "2                                225.0                                0.0   \n",
       "3                                225.0                                0.0   \n",
       "4                                225.0                                0.0   \n",
       "\n",
       "   MagpieData mean SpaceGroupNumber  MagpieData avg_dev SpaceGroupNumber  \\\n",
       "0                             225.0                                  0.0   \n",
       "1                             225.0                                  0.0   \n",
       "2                             225.0                                  0.0   \n",
       "3                             225.0                                  0.0   \n",
       "4                             225.0                                  0.0   \n",
       "\n",
       "   MagpieData mode SpaceGroupNumber  \n",
       "0                             225.0  \n",
       "1                             225.0  \n",
       "2                             225.0  \n",
       "3                             225.0  \n",
       "4                             225.0  \n",
       "\n",
       "[5 rows x 139 columns]"
      ]
     },
     "execution_count": 17,
     "metadata": {},
     "output_type": "execute_result"
    }
   ],
   "source": [
    "from matminer.featurizers.conversions import StrToComposition\n",
    "from matminer.featurizers.composition import ElementProperty\n",
    "\n",
    "df = StrToComposition().featurize_dataframe(df, \"FORMULA\")\n",
    "ep_feat = ElementProperty.from_preset(preset_name=\"magpie\")\n",
    "df = ep_feat.featurize_dataframe(df, col_id=\"composition\")  # input the \"composition\" column to the featurizer\n",
    "df.head()"
   ]
  },
  {
   "cell_type": "code",
   "execution_count": 18,
   "metadata": {},
   "outputs": [],
   "source": [
    "# rows with noble gases don't have electroneg values populated, drop for now\n",
    "df = df.dropna()\n",
    "df.to_csv('magpie_featurized.csv')"
   ]
  },
  {
   "cell_type": "code",
   "execution_count": 90,
   "metadata": {},
   "outputs": [],
   "source": [
    "df = pd.read_csv('magpie_featurized.csv')"
   ]
  },
  {
   "cell_type": "code",
   "execution_count": 91,
   "metadata": {},
   "outputs": [
    {
     "name": "stdout",
     "output_type": "stream",
     "text": [
      "2493\n",
      "18999\n",
      "0.0    18999\n",
      "1.0     2572\n",
      "Name: PROPERTY: stabilityVec, dtype: int64\n"
     ]
    }
   ],
   "source": [
    "counts = df['PROPERTY: stabilityVec'].value_counts()\n",
    "unstable_count = counts[0]\n",
    "stable_count = counts[1]\n",
    "unstable_binaries = df[(df['PROPERTY: stabilityVec'] == 0) & (df['FORMULA'].str.contains('\\.'))]\n",
    "stable_binaries = df[(df['PROPERTY: stabilityVec'] == 1) & (df['FORMULA'].str.contains('\\.'))]\n",
    "print(len(stable_binaries))\n",
    "print(len(unstable_binaries))\n",
    "print(counts)"
   ]
  },
  {
   "cell_type": "code",
   "execution_count": 92,
   "metadata": {},
   "outputs": [
    {
     "name": "stdout",
     "output_type": "stream",
     "text": [
      "There are 132 possible descriptors:\n",
      "\n",
      "['MagpieData minimum Number' 'MagpieData maximum Number'\n",
      " 'MagpieData range Number' 'MagpieData mean Number'\n",
      " 'MagpieData avg_dev Number' 'MagpieData mode Number'\n",
      " 'MagpieData minimum MendeleevNumber' 'MagpieData maximum MendeleevNumber'\n",
      " 'MagpieData range MendeleevNumber' 'MagpieData mean MendeleevNumber'\n",
      " 'MagpieData avg_dev MendeleevNumber' 'MagpieData mode MendeleevNumber'\n",
      " 'MagpieData minimum AtomicWeight' 'MagpieData maximum AtomicWeight'\n",
      " 'MagpieData range AtomicWeight' 'MagpieData mean AtomicWeight'\n",
      " 'MagpieData avg_dev AtomicWeight' 'MagpieData mode AtomicWeight'\n",
      " 'MagpieData minimum MeltingT' 'MagpieData maximum MeltingT'\n",
      " 'MagpieData range MeltingT' 'MagpieData mean MeltingT'\n",
      " 'MagpieData avg_dev MeltingT' 'MagpieData mode MeltingT'\n",
      " 'MagpieData minimum Column' 'MagpieData maximum Column'\n",
      " 'MagpieData range Column' 'MagpieData mean Column'\n",
      " 'MagpieData avg_dev Column' 'MagpieData mode Column'\n",
      " 'MagpieData minimum Row' 'MagpieData maximum Row' 'MagpieData range Row'\n",
      " 'MagpieData mean Row' 'MagpieData avg_dev Row' 'MagpieData mode Row'\n",
      " 'MagpieData minimum CovalentRadius' 'MagpieData maximum CovalentRadius'\n",
      " 'MagpieData range CovalentRadius' 'MagpieData mean CovalentRadius'\n",
      " 'MagpieData avg_dev CovalentRadius' 'MagpieData mode CovalentRadius'\n",
      " 'MagpieData minimum Electronegativity'\n",
      " 'MagpieData maximum Electronegativity'\n",
      " 'MagpieData range Electronegativity' 'MagpieData mean Electronegativity'\n",
      " 'MagpieData avg_dev Electronegativity'\n",
      " 'MagpieData mode Electronegativity' 'MagpieData minimum NsValence'\n",
      " 'MagpieData maximum NsValence' 'MagpieData range NsValence'\n",
      " 'MagpieData mean NsValence' 'MagpieData avg_dev NsValence'\n",
      " 'MagpieData mode NsValence' 'MagpieData minimum NpValence'\n",
      " 'MagpieData maximum NpValence' 'MagpieData range NpValence'\n",
      " 'MagpieData mean NpValence' 'MagpieData avg_dev NpValence'\n",
      " 'MagpieData mode NpValence' 'MagpieData minimum NdValence'\n",
      " 'MagpieData maximum NdValence' 'MagpieData range NdValence'\n",
      " 'MagpieData mean NdValence' 'MagpieData avg_dev NdValence'\n",
      " 'MagpieData mode NdValence' 'MagpieData minimum NfValence'\n",
      " 'MagpieData maximum NfValence' 'MagpieData range NfValence'\n",
      " 'MagpieData mean NfValence' 'MagpieData avg_dev NfValence'\n",
      " 'MagpieData mode NfValence' 'MagpieData minimum NValence'\n",
      " 'MagpieData maximum NValence' 'MagpieData range NValence'\n",
      " 'MagpieData mean NValence' 'MagpieData avg_dev NValence'\n",
      " 'MagpieData mode NValence' 'MagpieData minimum NsUnfilled'\n",
      " 'MagpieData maximum NsUnfilled' 'MagpieData range NsUnfilled'\n",
      " 'MagpieData mean NsUnfilled' 'MagpieData avg_dev NsUnfilled'\n",
      " 'MagpieData mode NsUnfilled' 'MagpieData minimum NpUnfilled'\n",
      " 'MagpieData maximum NpUnfilled' 'MagpieData range NpUnfilled'\n",
      " 'MagpieData mean NpUnfilled' 'MagpieData avg_dev NpUnfilled'\n",
      " 'MagpieData mode NpUnfilled' 'MagpieData minimum NdUnfilled'\n",
      " 'MagpieData maximum NdUnfilled' 'MagpieData range NdUnfilled'\n",
      " 'MagpieData mean NdUnfilled' 'MagpieData avg_dev NdUnfilled'\n",
      " 'MagpieData mode NdUnfilled' 'MagpieData minimum NfUnfilled'\n",
      " 'MagpieData maximum NfUnfilled' 'MagpieData range NfUnfilled'\n",
      " 'MagpieData mean NfUnfilled' 'MagpieData avg_dev NfUnfilled'\n",
      " 'MagpieData mode NfUnfilled' 'MagpieData minimum NUnfilled'\n",
      " 'MagpieData maximum NUnfilled' 'MagpieData range NUnfilled'\n",
      " 'MagpieData mean NUnfilled' 'MagpieData avg_dev NUnfilled'\n",
      " 'MagpieData mode NUnfilled' 'MagpieData minimum GSvolume_pa'\n",
      " 'MagpieData maximum GSvolume_pa' 'MagpieData range GSvolume_pa'\n",
      " 'MagpieData mean GSvolume_pa' 'MagpieData avg_dev GSvolume_pa'\n",
      " 'MagpieData mode GSvolume_pa' 'MagpieData minimum GSbandgap'\n",
      " 'MagpieData maximum GSbandgap' 'MagpieData range GSbandgap'\n",
      " 'MagpieData mean GSbandgap' 'MagpieData avg_dev GSbandgap'\n",
      " 'MagpieData mode GSbandgap' 'MagpieData minimum GSmagmom'\n",
      " 'MagpieData maximum GSmagmom' 'MagpieData range GSmagmom'\n",
      " 'MagpieData mean GSmagmom' 'MagpieData avg_dev GSmagmom'\n",
      " 'MagpieData mode GSmagmom' 'MagpieData minimum SpaceGroupNumber'\n",
      " 'MagpieData maximum SpaceGroupNumber' 'MagpieData range SpaceGroupNumber'\n",
      " 'MagpieData mean SpaceGroupNumber' 'MagpieData avg_dev SpaceGroupNumber'\n",
      " 'MagpieData mode SpaceGroupNumber']\n"
     ]
    }
   ],
   "source": [
    "# https://github.com/hackingmaterials/matminer_examples/blob/master/matminer_examples/machine_learning-nb/bulk_modulus.ipynb\n",
    "y = df['PROPERTY: stabilityVec'].values\n",
    "\n",
    "excluded = ['Unnamed: 0', 'Unnamed: 0.1', 'FORMULA', 'composition' , 'PROPERTY: element A', 'PROPERTY: element B', 'PROPERTY: binary_classifier', 'PROPERTY: stabilityVec']\n",
    "X = df.drop(excluded, axis=1)\n",
    "\n",
    "print(\"There are {} possible descriptors:\\n\\n{}\".format(X.shape[1], X.columns.values))"
   ]
  },
  {
   "cell_type": "code",
   "execution_count": 93,
   "metadata": {},
   "outputs": [
    {
     "name": "stdout",
     "output_type": "stream",
     "text": [
      "0\n"
     ]
    }
   ],
   "source": [
    "nan_rows = df[df.isnull().any(1)]\n",
    "print(len(nan_rows))\n",
    "nan_rows.to_csv('nan_rows.csv')"
   ]
  },
  {
   "cell_type": "code",
   "execution_count": 104,
   "metadata": {},
   "outputs": [],
   "source": [
    "from sklearn.ensemble import RandomForestClassifier\n",
    "from sklearn.metrics import mean_squared_error\n",
    "\n",
    "rf = RandomForestClassifier(n_estimators = len(X.columns), random_state=1)\n",
    "rf.fit(X, y)\n",
    "df['predicted_stabilityVec'] = rf.predict(X)"
   ]
  },
  {
   "cell_type": "code",
   "execution_count": 110,
   "metadata": {},
   "outputs": [
    {
     "ename": "ValueError",
     "evalue": "Array conditional must be same shape as self",
     "output_type": "error",
     "traceback": [
      "\u001b[0;31m---------------------------------------------------------------------------\u001b[0m",
      "\u001b[0;31mValueError\u001b[0m                                Traceback (most recent call last)",
      "\u001b[0;32m<ipython-input-110-223cefaa00a5>\u001b[0m in \u001b[0;36m<module>\u001b[0;34m()\u001b[0m\n\u001b[0;32m----> 1\u001b[0;31m \u001b[0mdf\u001b[0m\u001b[0;34m.\u001b[0m\u001b[0mwhere\u001b[0m\u001b[0;34m(\u001b[0m\u001b[0mdf\u001b[0m\u001b[0;34m[\u001b[0m\u001b[0;34m'PROPERTY: stabilityVec'\u001b[0m\u001b[0;34m]\u001b[0m\u001b[0;34m.\u001b[0m\u001b[0mvalues\u001b[0m\u001b[0;34m==\u001b[0m\u001b[0mdf\u001b[0m\u001b[0;34m[\u001b[0m\u001b[0;34m'predicted_stabilityVec'\u001b[0m\u001b[0;34m]\u001b[0m\u001b[0;34m.\u001b[0m\u001b[0mvalues\u001b[0m\u001b[0;34m)\u001b[0m\u001b[0;34m\u001b[0m\u001b[0m\n\u001b[0m",
      "\u001b[0;32m~/miniconda3/lib/python3.6/site-packages/pandas/core/generic.py\u001b[0m in \u001b[0;36mwhere\u001b[0;34m(self, cond, other, inplace, axis, level, errors, try_cast)\u001b[0m\n\u001b[1;32m   9276\u001b[0m         \u001b[0mother\u001b[0m \u001b[0;34m=\u001b[0m \u001b[0mcom\u001b[0m\u001b[0;34m.\u001b[0m\u001b[0mapply_if_callable\u001b[0m\u001b[0;34m(\u001b[0m\u001b[0mother\u001b[0m\u001b[0;34m,\u001b[0m \u001b[0mself\u001b[0m\u001b[0;34m)\u001b[0m\u001b[0;34m\u001b[0m\u001b[0m\n\u001b[1;32m   9277\u001b[0m         return self._where(\n\u001b[0;32m-> 9278\u001b[0;31m             \u001b[0mcond\u001b[0m\u001b[0;34m,\u001b[0m \u001b[0mother\u001b[0m\u001b[0;34m,\u001b[0m \u001b[0minplace\u001b[0m\u001b[0;34m,\u001b[0m \u001b[0maxis\u001b[0m\u001b[0;34m,\u001b[0m \u001b[0mlevel\u001b[0m\u001b[0;34m,\u001b[0m \u001b[0merrors\u001b[0m\u001b[0;34m=\u001b[0m\u001b[0merrors\u001b[0m\u001b[0;34m,\u001b[0m \u001b[0mtry_cast\u001b[0m\u001b[0;34m=\u001b[0m\u001b[0mtry_cast\u001b[0m\u001b[0;34m\u001b[0m\u001b[0m\n\u001b[0m\u001b[1;32m   9279\u001b[0m         )\n\u001b[1;32m   9280\u001b[0m \u001b[0;34m\u001b[0m\u001b[0m\n",
      "\u001b[0;32m~/miniconda3/lib/python3.6/site-packages/pandas/core/generic.py\u001b[0m in \u001b[0;36m_where\u001b[0;34m(self, cond, other, inplace, axis, level, errors, try_cast)\u001b[0m\n\u001b[1;32m   8996\u001b[0m                 \u001b[0mcond\u001b[0m \u001b[0;34m=\u001b[0m \u001b[0mnp\u001b[0m\u001b[0;34m.\u001b[0m\u001b[0masanyarray\u001b[0m\u001b[0;34m(\u001b[0m\u001b[0mcond\u001b[0m\u001b[0;34m)\u001b[0m\u001b[0;34m\u001b[0m\u001b[0m\n\u001b[1;32m   8997\u001b[0m             \u001b[0;32mif\u001b[0m \u001b[0mcond\u001b[0m\u001b[0;34m.\u001b[0m\u001b[0mshape\u001b[0m \u001b[0;34m!=\u001b[0m \u001b[0mself\u001b[0m\u001b[0;34m.\u001b[0m\u001b[0mshape\u001b[0m\u001b[0;34m:\u001b[0m\u001b[0;34m\u001b[0m\u001b[0m\n\u001b[0;32m-> 8998\u001b[0;31m                 \u001b[0;32mraise\u001b[0m \u001b[0mValueError\u001b[0m\u001b[0;34m(\u001b[0m\u001b[0;34m\"Array conditional must be same shape as \"\u001b[0m \u001b[0;34m\"self\"\u001b[0m\u001b[0;34m)\u001b[0m\u001b[0;34m\u001b[0m\u001b[0m\n\u001b[0m\u001b[1;32m   8999\u001b[0m             \u001b[0mcond\u001b[0m \u001b[0;34m=\u001b[0m \u001b[0mself\u001b[0m\u001b[0;34m.\u001b[0m\u001b[0m_constructor\u001b[0m\u001b[0;34m(\u001b[0m\u001b[0mcond\u001b[0m\u001b[0;34m,\u001b[0m \u001b[0;34m**\u001b[0m\u001b[0mself\u001b[0m\u001b[0;34m.\u001b[0m\u001b[0m_construct_axes_dict\u001b[0m\u001b[0;34m(\u001b[0m\u001b[0;34m)\u001b[0m\u001b[0;34m)\u001b[0m\u001b[0;34m\u001b[0m\u001b[0m\n\u001b[1;32m   9000\u001b[0m \u001b[0;34m\u001b[0m\u001b[0m\n",
      "\u001b[0;31mValueError\u001b[0m: Array conditional must be same shape as self"
     ]
    }
   ],
   "source": [
    "df.where(df['PROPERTY: stabilityVec'].values==df['predicted_stabilityVec'].values)\n"
   ]
  },
  {
   "cell_type": "code",
   "execution_count": 105,
   "metadata": {},
   "outputs": [],
   "source": [
    "\n",
    "df.to_csv('predicted_test.csv')"
   ]
  },
  {
   "cell_type": "code",
   "execution_count": 106,
   "metadata": {},
   "outputs": [
    {
     "name": "stdout",
     "output_type": "stream",
     "text": [
      "132 132\n"
     ]
    }
   ],
   "source": [
    "# test data\n",
    "df_test = pd.read_csv('test_data_magpie_featurized.csv')\n",
    "excluded = ['Unnamed: 0', 'FORMULA', 'composition']\n",
    "X_test = df_test.drop(excluded, axis=1)\n",
    "print(len(X.columns), len(X_test.columns))\n",
    "df_test['predicted_stabilityVec'] = rf.predict(X_test)\n",
    "df_test = df_test.filter(['FORMULA', 'predicted_stabilityVec'], axis=1)\n",
    "df_test.to_csv('test_data_predictions.csv')"
   ]
  },
  {
   "cell_type": "code",
   "execution_count": 107,
   "metadata": {},
   "outputs": [
    {
     "name": "stdout",
     "output_type": "stream",
     "text": [
      "0.0    5854\n",
      "1.0     462\n",
      "Name: predicted_stabilityVec, dtype: int64\n"
     ]
    }
   ],
   "source": [
    "print(df_test['predicted_stabilityVec'].value_counts())"
   ]
  },
  {
   "cell_type": "code",
   "execution_count": 73,
   "metadata": {},
   "outputs": [
    {
     "name": "stdout",
     "output_type": "stream",
     "text": [
      "correct      21406\n",
      "incorrect      165\n",
      "Name: result, dtype: int64\n"
     ]
    }
   ],
   "source": [
    "df_equal = df['PROPERTY: stabilityVec'].equals(df['predicted_stabilityVec'])\n",
    "df['result'] = np.where(df['PROPERTY: stabilityVec'] == df['predicted_stabilityVec'], 'correct', 'incorrect')\n",
    "print(df['result'].value_counts())"
   ]
  },
  {
   "cell_type": "code",
   "execution_count": 50,
   "metadata": {},
   "outputs": [
    {
     "name": "stdout",
     "output_type": "stream",
     "text": [
      "Cross-validation results:\n",
      "Folds: 10, mean R2: 0.983\n",
      "Folds: 10, mean RMSE: 0.035\n"
     ]
    }
   ],
   "source": [
    "from sklearn.model_selection import KFold, cross_val_score\n",
    "crossvalidation = KFold(n_splits=10, shuffle=False, random_state=1)\n",
    "\n",
    "# compute cross validation scores for random forest model\n",
    "r2_scores = cross_val_score(rf, X, y, scoring='r2', cv=crossvalidation, n_jobs=-1)\n",
    "scores = cross_val_score(rf, X, y, scoring='neg_mean_squared_error', cv=crossvalidation, n_jobs=-1)\n",
    "rmse_scores = [np.sqrt(abs(s)) for s in scores]\n",
    "\n",
    "print('Cross-validation results:')\n",
    "print('Folds: %i, mean R2: %.3f' % (len(scores), np.mean(np.abs(r2_scores))))\n",
    "print('Folds: %i, mean RMSE: %.3f' % (len(scores), np.mean(np.abs(rmse_scores))))"
   ]
  },
  {
   "cell_type": "code",
   "execution_count": 58,
   "metadata": {},
   "outputs": [
    {
     "name": "stdout",
     "output_type": "stream",
     "text": [
      "18999 0 42 2530\n",
      "0.9836702954898912 1.0 0.9917679341434731\n"
     ]
    }
   ],
   "source": [
    "from sklearn.model_selection import cross_val_predict\n",
    "from sklearn.metrics import confusion_matrix\n",
    "y_pred = cross_val_predict(rf, X, y, cv=crossvalidation)\n",
    "confusion_matrix(y, y_pred,)\n",
    "tn, fp, fn, tp = confusion_matrix(y, y_pred).ravel()\n",
    "print(tn, fp, fn, tp)\n",
    "recall = tp / (tp + fn)\n",
    "precision = tp / (tp + fp)\n",
    "F_score = (2 * recall * precision) / (recall + precision)\n",
    "print(recall, precision, F_score)"
   ]
  },
  {
   "cell_type": "code",
   "execution_count": 54,
   "metadata": {},
   "outputs": [
    {
     "data": {
      "text/plain": [
       "<matplotlib.collections.PathCollection at 0x12187f8d0>"
      ]
     },
     "execution_count": 54,
     "metadata": {},
     "output_type": "execute_result"
    },
    {
     "data": {
      "image/png": "[encoded data removed]",
      "text/plain": [
       "<Figure size 432x288 with 1 Axes>"
      ]
     },
     "metadata": {},
     "output_type": "display_data"
    }
   ],
   "source": [
    "import matplotlib.pyplot as plt\n",
    "\n",
    "plt.scatter(y, y_pred)"
   ]
  },
  {
   "cell_type": "code",
   "execution_count": null,
   "metadata": {},
   "outputs": [],
   "source": []
  }
 ],
 "metadata": {
  "kernelspec": {
   "display_name": "Python 3",
   "language": "python",
   "name": "python3"
  },
  "language_info": {
   "codemirror_mode": {
    "name": "ipython",
    "version": 3
   },
   "file_extension": ".py",
   "mimetype": "text/x-python",
   "name": "python",
   "nbconvert_exporter": "python",
   "pygments_lexer": "ipython3",
   "version": "3.6.4"
  }
 },
 "nbformat": 4,
 "nbformat_minor": 2
}
