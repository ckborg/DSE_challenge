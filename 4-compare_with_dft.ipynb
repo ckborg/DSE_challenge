{
 "cells": [
  {
   "cell_type": "code",
   "execution_count": 1,
   "metadata": {},
   "outputs": [],
   "source": [
    "import pandas as pd"
   ]
  },
  {
   "cell_type": "code",
   "execution_count": 6,
   "metadata": {},
   "outputs": [],
   "source": [
    "df_dft = pd.read_csv('data/test_data_exploded_no_features_with_stability.csv')\n",
    "df_pred = pd.read_csv('data/test_data_exploded_magpie_featurized_predictions.csv')"
   ]
  },
  {
   "cell_type": "code",
   "execution_count": 23,
   "metadata": {},
   "outputs": [
    {
     "name": "stdout",
     "output_type": "stream",
     "text": [
      "97 218 6230 196\n",
      "0.939\n",
      "0.319078947368421\n",
      "0.30793650793650795\n",
      "0.3310580204778157\n"
     ]
    }
   ],
   "source": [
    "tp = 0\n",
    "fp = 0\n",
    "tn = 0\n",
    "fn = 0\n",
    "for row_dft, row_pred in zip(df_dft.iterrows(), df_pred.iterrows()):\n",
    "    dft_val = row_dft[1]['is_stable']\n",
    "    pred_val = row_pred[1]['predicted_stabilityVec']\n",
    "    if '.' in row_dft[1]['unit_comp']:\n",
    "        if dft_val == True and pred_val == 1.0:\n",
    "            tp += 1\n",
    "        elif dft_val == False and pred_val == 1.0:\n",
    "            fp += 1\n",
    "        elif dft_val == True and pred_val == 0:\n",
    "            fn += 1\n",
    "        elif dft_val == False and pred_val == 0:\n",
    "            tn += 1\n",
    "print(tp, fp, tn, fn)\n",
    "\n",
    "# precision: What proportion of positive identifications was actually correct?\n",
    "precision = tp/(tp+fp)\n",
    "\n",
    "# recall: What proportion of actual positives was identified correctly?\n",
    "recall = tp/(tp+fn)\n",
    "\n",
    "accuracy = (tp+tn)/(tp+tn+fn+fp)\n",
    "\n",
    "# F1: more balanced accuracy metric\n",
    "F1 = 2 * (precision * recall) / (precision + recall)\n",
    "print(round(accuracy, 3))\n",
    "print(F1)\n",
    "print(precision)\n",
    "print(recall)"
   ]
  },
  {
   "cell_type": "code",
   "execution_count": null,
   "metadata": {},
   "outputs": [],
   "source": []
  }
 ],
 "metadata": {
  "kernelspec": {
   "display_name": "Python 3",
   "language": "python",
   "name": "python3"
  },
  "language_info": {
   "codemirror_mode": {
    "name": "ipython",
    "version": 3
   },
   "file_extension": ".py",
   "mimetype": "text/x-python",
   "name": "python",
   "nbconvert_exporter": "python",
   "pygments_lexer": "ipython3",
   "version": "3.6.4"
  }
 },
 "nbformat": 4,
 "nbformat_minor": 2
}
